{
 "cells": [
  {
   "cell_type": "markdown",
   "metadata": {},
   "source": [
    "Hola **Rafael**!\n",
    "\n",
    "Soy **Patricio Requena** 👋. Es un placer ser el revisor de tu proyecto el día de hoy!\n",
    "\n",
    "Revisaré tu proyecto detenidamente con el objetivo de ayudarte a mejorar y perfeccionar tus habilidades. Durante mi revisión, identificaré áreas donde puedas hacer mejoras en tu código, señalando específicamente qué y cómo podrías ajustar para optimizar el rendimiento y la claridad de tu proyecto. Además, es importante para mí destacar los aspectos que has manejado excepcionalmente bien. Reconocer tus fortalezas te ayudará a entender qué técnicas y métodos están funcionando a tu favor y cómo puedes aplicarlos en futuras tareas. \n",
    "\n",
    "_**Recuerda que al final de este notebook encontrarás un comentario general de mi parte**_, empecemos!\n",
    "\n",
    "Encontrarás mis comentarios dentro de cajas verdes, amarillas o rojas, ⚠️ **por favor, no muevas, modifiques o borres mis comentarios** ⚠️:\n",
    "\n",
    "\n",
    "<div class=\"alert alert-block alert-success\">\n",
    "<b>Comentario del revisor</b> <a class=“tocSkip”></a>\n",
    "Si todo está perfecto.\n",
    "</div>\n",
    "\n",
    "<div class=\"alert alert-block alert-warning\">\n",
    "<b>Comentario del revisor</b> <a class=“tocSkip”></a>\n",
    "Si tu código está bien pero se puede mejorar o hay algún detalle que le hace falta.\n",
    "</div>\n",
    "\n",
    "<div class=\"alert alert-block alert-danger\">\n",
    "<b>Comentario del revisor</b> <a class=“tocSkip”></a>\n",
    "Si de pronto hace falta algo o existe algún problema con tu código o conclusiones.\n",
    "</div>"
   ]
  },
  {
   "cell_type": "markdown",
   "metadata": {},
   "source": [
    "# Descripción del proyecto\n",
    "\n",
    "La compañía Sweet Lift Taxi ha recopilado datos históricos sobre pedidos de taxis en los aeropuertos. Para atraer a más conductores durante las horas pico, necesitamos predecir la cantidad de pedidos de taxis para la próxima hora. Construye un modelo para dicha predicción.\n",
    "\n",
    "La métrica RECM en el conjunto de prueba no debe ser superior a 48.\n",
    "\n",
    "## Instrucciones del proyecto.\n",
    "\n",
    "1. Descarga los datos y haz el remuestreo por una hora.\n",
    "2. Analiza los datos\n",
    "3. Entrena diferentes modelos con diferentes hiperparámetros. La muestra de prueba debe ser el 10% del conjunto de datos inicial.4. Prueba los datos usando la muestra de prueba y proporciona una conclusión.\n",
    "\n",
    "## Descripción de los datos\n",
    "\n",
    "Los datos se almacenan en el archivo `taxi.csv`. \t\n",
    "El número de pedidos está en la columna `num_orders`."
   ]
  },
  {
   "cell_type": "markdown",
   "metadata": {},
   "source": [
    "<div class=\"alert alert-block alert-success\">\n",
    "<b>Comentario del revisor (1ra Iteracion)</b> <a class=“tocSkip”></a>\n",
    "\n",
    "Te felicito por incluir esta sección introductoria ya que ayuda a entender el que y cómo de tu proyecto antes de revisar cada celda, te animo a mantener esta buena práctica!\n",
    "</div>"
   ]
  },
  {
   "cell_type": "markdown",
   "metadata": {},
   "source": [
    "## Preparación"
   ]
  },
  {
   "cell_type": "code",
   "execution_count": 1,
   "metadata": {
    "trusted": false
   },
   "outputs": [],
   "source": [
    "#librerias \n",
    "import numpy as np\n",
    "import pandas as pd\n",
    "import matplotlib.pyplot as plt\n",
    "import time\n",
    "\n",
    "from statsmodels.tsa.seasonal import seasonal_decompose"
   ]
  },
  {
   "cell_type": "markdown",
   "metadata": {},
   "source": [
    "<div class=\"alert alert-block alert-info\">\n",
    "<b>Comentario del revisor (1ra Iteracion)</b> <a class=“tocSkip”></a>\n",
    "\n",
    "Una buena práctica para cuando tengas que importar varias librerías es seguir el siguiente órden en las mismas:\n",
    "\n",
    "- Primero todas las librerías que vienen ya con python cómo `datetime`, `os`, `json`, etc.\n",
    "- Luego de las librerías de Python si las de terceros cómo `pandas`, `scipy`, `numpy`, etc.\n",
    "- Por último, en el caso de que armes tu propio módulo en tu proyecto esto debería ir en tercer lugar, y recuerda siempre ordenar cada tipo por orden alfabético\n",
    "    \n",
    "Para cada sección se deben ordenar en orden alfabético\n",
    "</div>"
   ]
  },
  {
   "cell_type": "code",
   "execution_count": 2,
   "metadata": {
    "trusted": false
   },
   "outputs": [],
   "source": [
    "df_raw = pd.read_csv('taxi.csv',parse_dates=['datetime'], index_col=[0])"
   ]
  },
  {
   "cell_type": "code",
   "execution_count": 3,
   "metadata": {
    "trusted": false
   },
   "outputs": [
    {
     "name": "stdout",
     "output_type": "stream",
     "text": [
      "<class 'pandas.core.frame.DataFrame'>\n",
      "DatetimeIndex: 26496 entries, 2018-03-01 00:00:00 to 2018-08-31 23:50:00\n",
      "Data columns (total 1 columns):\n",
      " #   Column      Non-Null Count  Dtype\n",
      "---  ------      --------------  -----\n",
      " 0   num_orders  26496 non-null  int64\n",
      "dtypes: int64(1)\n",
      "memory usage: 414.0 KB\n"
     ]
    }
   ],
   "source": [
    "df_raw.info()"
   ]
  },
  {
   "cell_type": "code",
   "execution_count": 4,
   "metadata": {
    "trusted": false
   },
   "outputs": [
    {
     "data": {
      "text/html": [
       "<div>\n",
       "<style scoped>\n",
       "    .dataframe tbody tr th:only-of-type {\n",
       "        vertical-align: middle;\n",
       "    }\n",
       "\n",
       "    .dataframe tbody tr th {\n",
       "        vertical-align: top;\n",
       "    }\n",
       "\n",
       "    .dataframe thead th {\n",
       "        text-align: right;\n",
       "    }\n",
       "</style>\n",
       "<table border=\"1\" class=\"dataframe\">\n",
       "  <thead>\n",
       "    <tr style=\"text-align: right;\">\n",
       "      <th></th>\n",
       "      <th>num_orders</th>\n",
       "    </tr>\n",
       "    <tr>\n",
       "      <th>datetime</th>\n",
       "      <th></th>\n",
       "    </tr>\n",
       "  </thead>\n",
       "  <tbody>\n",
       "    <tr>\n",
       "      <th>2018-03-01 00:00:00</th>\n",
       "      <td>9</td>\n",
       "    </tr>\n",
       "    <tr>\n",
       "      <th>2018-03-01 00:10:00</th>\n",
       "      <td>14</td>\n",
       "    </tr>\n",
       "    <tr>\n",
       "      <th>2018-03-01 00:20:00</th>\n",
       "      <td>28</td>\n",
       "    </tr>\n",
       "    <tr>\n",
       "      <th>2018-03-01 00:30:00</th>\n",
       "      <td>20</td>\n",
       "    </tr>\n",
       "    <tr>\n",
       "      <th>2018-03-01 00:40:00</th>\n",
       "      <td>32</td>\n",
       "    </tr>\n",
       "  </tbody>\n",
       "</table>\n",
       "</div>"
      ],
      "text/plain": [
       "                     num_orders\n",
       "datetime                       \n",
       "2018-03-01 00:00:00           9\n",
       "2018-03-01 00:10:00          14\n",
       "2018-03-01 00:20:00          28\n",
       "2018-03-01 00:30:00          20\n",
       "2018-03-01 00:40:00          32"
      ]
     },
     "execution_count": 4,
     "metadata": {},
     "output_type": "execute_result"
    }
   ],
   "source": [
    "df_raw.head(5)"
   ]
  },
  {
   "cell_type": "code",
   "execution_count": 5,
   "metadata": {
    "trusted": false
   },
   "outputs": [],
   "source": [
    "df_clean = df_raw"
   ]
  },
  {
   "cell_type": "code",
   "execution_count": 6,
   "metadata": {
    "trusted": false
   },
   "outputs": [
    {
     "name": "stderr",
     "output_type": "stream",
     "text": [
      "C:\\Users\\rafael\\AppData\\Local\\Temp\\ipykernel_12768\\1758209374.py:1: FutureWarning: 'H' is deprecated and will be removed in a future version, please use 'h' instead.\n",
      "  df_clean = df_clean.resample('1H').sum()\n"
     ]
    },
    {
     "data": {
      "text/html": [
       "<div>\n",
       "<style scoped>\n",
       "    .dataframe tbody tr th:only-of-type {\n",
       "        vertical-align: middle;\n",
       "    }\n",
       "\n",
       "    .dataframe tbody tr th {\n",
       "        vertical-align: top;\n",
       "    }\n",
       "\n",
       "    .dataframe thead th {\n",
       "        text-align: right;\n",
       "    }\n",
       "</style>\n",
       "<table border=\"1\" class=\"dataframe\">\n",
       "  <thead>\n",
       "    <tr style=\"text-align: right;\">\n",
       "      <th></th>\n",
       "      <th>num_orders</th>\n",
       "    </tr>\n",
       "    <tr>\n",
       "      <th>datetime</th>\n",
       "      <th></th>\n",
       "    </tr>\n",
       "  </thead>\n",
       "  <tbody>\n",
       "    <tr>\n",
       "      <th>2018-03-01 00:00:00</th>\n",
       "      <td>124</td>\n",
       "    </tr>\n",
       "    <tr>\n",
       "      <th>2018-03-01 01:00:00</th>\n",
       "      <td>85</td>\n",
       "    </tr>\n",
       "    <tr>\n",
       "      <th>2018-03-01 02:00:00</th>\n",
       "      <td>71</td>\n",
       "    </tr>\n",
       "    <tr>\n",
       "      <th>2018-03-01 03:00:00</th>\n",
       "      <td>66</td>\n",
       "    </tr>\n",
       "    <tr>\n",
       "      <th>2018-03-01 04:00:00</th>\n",
       "      <td>43</td>\n",
       "    </tr>\n",
       "    <tr>\n",
       "      <th>...</th>\n",
       "      <td>...</td>\n",
       "    </tr>\n",
       "    <tr>\n",
       "      <th>2018-08-31 19:00:00</th>\n",
       "      <td>136</td>\n",
       "    </tr>\n",
       "    <tr>\n",
       "      <th>2018-08-31 20:00:00</th>\n",
       "      <td>154</td>\n",
       "    </tr>\n",
       "    <tr>\n",
       "      <th>2018-08-31 21:00:00</th>\n",
       "      <td>159</td>\n",
       "    </tr>\n",
       "    <tr>\n",
       "      <th>2018-08-31 22:00:00</th>\n",
       "      <td>223</td>\n",
       "    </tr>\n",
       "    <tr>\n",
       "      <th>2018-08-31 23:00:00</th>\n",
       "      <td>205</td>\n",
       "    </tr>\n",
       "  </tbody>\n",
       "</table>\n",
       "<p>4416 rows × 1 columns</p>\n",
       "</div>"
      ],
      "text/plain": [
       "                     num_orders\n",
       "datetime                       \n",
       "2018-03-01 00:00:00         124\n",
       "2018-03-01 01:00:00          85\n",
       "2018-03-01 02:00:00          71\n",
       "2018-03-01 03:00:00          66\n",
       "2018-03-01 04:00:00          43\n",
       "...                         ...\n",
       "2018-08-31 19:00:00         136\n",
       "2018-08-31 20:00:00         154\n",
       "2018-08-31 21:00:00         159\n",
       "2018-08-31 22:00:00         223\n",
       "2018-08-31 23:00:00         205\n",
       "\n",
       "[4416 rows x 1 columns]"
      ]
     },
     "execution_count": 6,
     "metadata": {},
     "output_type": "execute_result"
    }
   ],
   "source": [
    "df_clean = df_clean.resample('1H').sum()\n",
    "df_clean"
   ]
  },
  {
   "cell_type": "markdown",
   "metadata": {},
   "source": [
    "## Análisis"
   ]
  },
  {
   "cell_type": "code",
   "execution_count": 7,
   "metadata": {
    "trusted": false
   },
   "outputs": [],
   "source": [
    "df_clean_1M = df_clean.loc[(df_clean.index.month == 6)]\n",
    "df_clean_2D = df_clean.loc[(df_clean.index.month == 6) & (df_clean.index.day.isin([5, 6]))]\n",
    "# se utiliza unicamente 2 meses continuos para poder ver de mejor manera la estacionalidad "
   ]
  },
  {
   "cell_type": "code",
   "execution_count": 8,
   "metadata": {
    "trusted": false
   },
   "outputs": [],
   "source": [
    "descom_estacional = seasonal_decompose(df_clean)\n",
    "descom_estacional_1m = seasonal_decompose(df_clean_1M)\n",
    "descom_estacional_2d = seasonal_decompose(df_clean_2D)"
   ]
  },
  {
   "cell_type": "code",
   "execution_count": 9,
   "metadata": {
    "trusted": false
   },
   "outputs": [
    {
     "data": {
      "image/png": "[encoded data removed]",
      "text/plain": [
       "<Figure size 1200x800 with 3 Axes>"
      ]
     },
     "metadata": {},
     "output_type": "display_data"
    }
   ],
   "source": [
    "plt.figure(figsize=(12,8))\n",
    "plt.subplot(311)\n",
    "descom_estacional.trend.plot(ax=plt.gca())\n",
    "plt.title('Tendecia')\n",
    "plt.subplot(312)\n",
    "descom_estacional_1m.seasonal.plot(ax=plt.gca())\n",
    "plt.title('Estacionalidad')\n",
    "plt.subplot(313)\n",
    "descom_estacional_2d.seasonal.plot(ax=plt.gca())\n",
    "plt.title('Estacionalidad de 2 dias')\n",
    "plt.tight_layout()\n",
    "plt.show()"
   ]
  },
  {
   "cell_type": "markdown",
   "metadata": {},
   "source": [
    "<div class=\"alert alert-block alert-info\">\n",
    "<b>Respuesta del estudiante:</b> <a class=“tocSkip”></a>\n",
    " Como se puede apreciar la tendecia de los pedidos de servico van en aumento con respecto al primer mes, asi mismo la estacionalidad de los servicios es por dia se repiten los mismos patrones se tiene un pico maximo a las 00:00 y un minimo a las 6 am\n",
    "</div>"
   ]
  },
  {
   "cell_type": "markdown",
   "metadata": {},
   "source": [
    "<div class=\"alert alert-block alert-success\">\n",
    "<b>Comentario del revisor (1ra Iteracion)</b> <a class=“tocSkip”></a>\n",
    "\n",
    "Muy buen trabajo, realizaste las gráficas correctas para el análisis de datos temporales y planteaste un comentario acertado sobre lo que se puede observar\n",
    "</div>"
   ]
  },
  {
   "cell_type": "markdown",
   "metadata": {},
   "source": [
    "## Formación"
   ]
  },
  {
   "cell_type": "markdown",
   "metadata": {},
   "source": [
    "### Construccion de caracteristicas"
   ]
  },
  {
   "cell_type": "code",
   "execution_count": 10,
   "metadata": {
    "trusted": false
   },
   "outputs": [],
   "source": [
    "def make_feactures(data,max_lag,rolling_mean_size):\n",
    "    data['mes'] =data.index.month\n",
    "    data['dia'] =data.index.day\n",
    "    data['day_of_weak'] =data.index.dayofweek\n",
    "    data['hora'] = data.index.hour\n",
    "    \n",
    "    for lag in range(1,max_lag+1):\n",
    "         data['lag_{}'.format(lag)] = data['num_orders'].shift(lag)\n",
    "    \n",
    "    data['rolling_mean'] = (data['num_orders'].shift().rolling(rolling_mean_size).mean())\n",
    "    "
   ]
  },
  {
   "cell_type": "code",
   "execution_count": 11,
   "metadata": {
    "trusted": false
   },
   "outputs": [
    {
     "data": {
      "text/html": [
       "<div>\n",
       "<style scoped>\n",
       "    .dataframe tbody tr th:only-of-type {\n",
       "        vertical-align: middle;\n",
       "    }\n",
       "\n",
       "    .dataframe tbody tr th {\n",
       "        vertical-align: top;\n",
       "    }\n",
       "\n",
       "    .dataframe thead th {\n",
       "        text-align: right;\n",
       "    }\n",
       "</style>\n",
       "<table border=\"1\" class=\"dataframe\">\n",
       "  <thead>\n",
       "    <tr style=\"text-align: right;\">\n",
       "      <th></th>\n",
       "      <th>num_orders</th>\n",
       "      <th>mes</th>\n",
       "      <th>dia</th>\n",
       "      <th>day_of_weak</th>\n",
       "      <th>hora</th>\n",
       "      <th>lag_1</th>\n",
       "      <th>lag_2</th>\n",
       "      <th>lag_3</th>\n",
       "      <th>lag_4</th>\n",
       "      <th>lag_5</th>\n",
       "      <th>...</th>\n",
       "      <th>lag_16</th>\n",
       "      <th>lag_17</th>\n",
       "      <th>lag_18</th>\n",
       "      <th>lag_19</th>\n",
       "      <th>lag_20</th>\n",
       "      <th>lag_21</th>\n",
       "      <th>lag_22</th>\n",
       "      <th>lag_23</th>\n",
       "      <th>lag_24</th>\n",
       "      <th>rolling_mean</th>\n",
       "    </tr>\n",
       "    <tr>\n",
       "      <th>datetime</th>\n",
       "      <th></th>\n",
       "      <th></th>\n",
       "      <th></th>\n",
       "      <th></th>\n",
       "      <th></th>\n",
       "      <th></th>\n",
       "      <th></th>\n",
       "      <th></th>\n",
       "      <th></th>\n",
       "      <th></th>\n",
       "      <th></th>\n",
       "      <th></th>\n",
       "      <th></th>\n",
       "      <th></th>\n",
       "      <th></th>\n",
       "      <th></th>\n",
       "      <th></th>\n",
       "      <th></th>\n",
       "      <th></th>\n",
       "      <th></th>\n",
       "      <th></th>\n",
       "    </tr>\n",
       "  </thead>\n",
       "  <tbody>\n",
       "    <tr>\n",
       "      <th>2018-03-01 00:00:00</th>\n",
       "      <td>124</td>\n",
       "      <td>3</td>\n",
       "      <td>1</td>\n",
       "      <td>3</td>\n",
       "      <td>0</td>\n",
       "      <td>NaN</td>\n",
       "      <td>NaN</td>\n",
       "      <td>NaN</td>\n",
       "      <td>NaN</td>\n",
       "      <td>NaN</td>\n",
       "      <td>...</td>\n",
       "      <td>NaN</td>\n",
       "      <td>NaN</td>\n",
       "      <td>NaN</td>\n",
       "      <td>NaN</td>\n",
       "      <td>NaN</td>\n",
       "      <td>NaN</td>\n",
       "      <td>NaN</td>\n",
       "      <td>NaN</td>\n",
       "      <td>NaN</td>\n",
       "      <td>NaN</td>\n",
       "    </tr>\n",
       "    <tr>\n",
       "      <th>2018-03-01 01:00:00</th>\n",
       "      <td>85</td>\n",
       "      <td>3</td>\n",
       "      <td>1</td>\n",
       "      <td>3</td>\n",
       "      <td>1</td>\n",
       "      <td>124.0</td>\n",
       "      <td>NaN</td>\n",
       "      <td>NaN</td>\n",
       "      <td>NaN</td>\n",
       "      <td>NaN</td>\n",
       "      <td>...</td>\n",
       "      <td>NaN</td>\n",
       "      <td>NaN</td>\n",
       "      <td>NaN</td>\n",
       "      <td>NaN</td>\n",
       "      <td>NaN</td>\n",
       "      <td>NaN</td>\n",
       "      <td>NaN</td>\n",
       "      <td>NaN</td>\n",
       "      <td>NaN</td>\n",
       "      <td>NaN</td>\n",
       "    </tr>\n",
       "    <tr>\n",
       "      <th>2018-03-01 02:00:00</th>\n",
       "      <td>71</td>\n",
       "      <td>3</td>\n",
       "      <td>1</td>\n",
       "      <td>3</td>\n",
       "      <td>2</td>\n",
       "      <td>85.0</td>\n",
       "      <td>124.0</td>\n",
       "      <td>NaN</td>\n",
       "      <td>NaN</td>\n",
       "      <td>NaN</td>\n",
       "      <td>...</td>\n",
       "      <td>NaN</td>\n",
       "      <td>NaN</td>\n",
       "      <td>NaN</td>\n",
       "      <td>NaN</td>\n",
       "      <td>NaN</td>\n",
       "      <td>NaN</td>\n",
       "      <td>NaN</td>\n",
       "      <td>NaN</td>\n",
       "      <td>NaN</td>\n",
       "      <td>NaN</td>\n",
       "    </tr>\n",
       "    <tr>\n",
       "      <th>2018-03-01 03:00:00</th>\n",
       "      <td>66</td>\n",
       "      <td>3</td>\n",
       "      <td>1</td>\n",
       "      <td>3</td>\n",
       "      <td>3</td>\n",
       "      <td>71.0</td>\n",
       "      <td>85.0</td>\n",
       "      <td>124.0</td>\n",
       "      <td>NaN</td>\n",
       "      <td>NaN</td>\n",
       "      <td>...</td>\n",
       "      <td>NaN</td>\n",
       "      <td>NaN</td>\n",
       "      <td>NaN</td>\n",
       "      <td>NaN</td>\n",
       "      <td>NaN</td>\n",
       "      <td>NaN</td>\n",
       "      <td>NaN</td>\n",
       "      <td>NaN</td>\n",
       "      <td>NaN</td>\n",
       "      <td>NaN</td>\n",
       "    </tr>\n",
       "    <tr>\n",
       "      <th>2018-03-01 04:00:00</th>\n",
       "      <td>43</td>\n",
       "      <td>3</td>\n",
       "      <td>1</td>\n",
       "      <td>3</td>\n",
       "      <td>4</td>\n",
       "      <td>66.0</td>\n",
       "      <td>71.0</td>\n",
       "      <td>85.0</td>\n",
       "      <td>124.0</td>\n",
       "      <td>NaN</td>\n",
       "      <td>...</td>\n",
       "      <td>NaN</td>\n",
       "      <td>NaN</td>\n",
       "      <td>NaN</td>\n",
       "      <td>NaN</td>\n",
       "      <td>NaN</td>\n",
       "      <td>NaN</td>\n",
       "      <td>NaN</td>\n",
       "      <td>NaN</td>\n",
       "      <td>NaN</td>\n",
       "      <td>NaN</td>\n",
       "    </tr>\n",
       "    <tr>\n",
       "      <th>...</th>\n",
       "      <td>...</td>\n",
       "      <td>...</td>\n",
       "      <td>...</td>\n",
       "      <td>...</td>\n",
       "      <td>...</td>\n",
       "      <td>...</td>\n",
       "      <td>...</td>\n",
       "      <td>...</td>\n",
       "      <td>...</td>\n",
       "      <td>...</td>\n",
       "      <td>...</td>\n",
       "      <td>...</td>\n",
       "      <td>...</td>\n",
       "      <td>...</td>\n",
       "      <td>...</td>\n",
       "      <td>...</td>\n",
       "      <td>...</td>\n",
       "      <td>...</td>\n",
       "      <td>...</td>\n",
       "      <td>...</td>\n",
       "      <td>...</td>\n",
       "    </tr>\n",
       "    <tr>\n",
       "      <th>2018-08-31 19:00:00</th>\n",
       "      <td>136</td>\n",
       "      <td>8</td>\n",
       "      <td>31</td>\n",
       "      <td>4</td>\n",
       "      <td>19</td>\n",
       "      <td>207.0</td>\n",
       "      <td>217.0</td>\n",
       "      <td>197.0</td>\n",
       "      <td>116.0</td>\n",
       "      <td>133.0</td>\n",
       "      <td>...</td>\n",
       "      <td>99.0</td>\n",
       "      <td>230.0</td>\n",
       "      <td>194.0</td>\n",
       "      <td>276.0</td>\n",
       "      <td>246.0</td>\n",
       "      <td>158.0</td>\n",
       "      <td>198.0</td>\n",
       "      <td>142.0</td>\n",
       "      <td>72.0</td>\n",
       "      <td>164.875000</td>\n",
       "    </tr>\n",
       "    <tr>\n",
       "      <th>2018-08-31 20:00:00</th>\n",
       "      <td>154</td>\n",
       "      <td>8</td>\n",
       "      <td>31</td>\n",
       "      <td>4</td>\n",
       "      <td>20</td>\n",
       "      <td>136.0</td>\n",
       "      <td>207.0</td>\n",
       "      <td>217.0</td>\n",
       "      <td>197.0</td>\n",
       "      <td>116.0</td>\n",
       "      <td>...</td>\n",
       "      <td>268.0</td>\n",
       "      <td>99.0</td>\n",
       "      <td>230.0</td>\n",
       "      <td>194.0</td>\n",
       "      <td>276.0</td>\n",
       "      <td>246.0</td>\n",
       "      <td>158.0</td>\n",
       "      <td>198.0</td>\n",
       "      <td>142.0</td>\n",
       "      <td>167.541667</td>\n",
       "    </tr>\n",
       "    <tr>\n",
       "      <th>2018-08-31 21:00:00</th>\n",
       "      <td>159</td>\n",
       "      <td>8</td>\n",
       "      <td>31</td>\n",
       "      <td>4</td>\n",
       "      <td>21</td>\n",
       "      <td>154.0</td>\n",
       "      <td>136.0</td>\n",
       "      <td>207.0</td>\n",
       "      <td>217.0</td>\n",
       "      <td>197.0</td>\n",
       "      <td>...</td>\n",
       "      <td>78.0</td>\n",
       "      <td>268.0</td>\n",
       "      <td>99.0</td>\n",
       "      <td>230.0</td>\n",
       "      <td>194.0</td>\n",
       "      <td>276.0</td>\n",
       "      <td>246.0</td>\n",
       "      <td>158.0</td>\n",
       "      <td>198.0</td>\n",
       "      <td>168.041667</td>\n",
       "    </tr>\n",
       "    <tr>\n",
       "      <th>2018-08-31 22:00:00</th>\n",
       "      <td>223</td>\n",
       "      <td>8</td>\n",
       "      <td>31</td>\n",
       "      <td>4</td>\n",
       "      <td>22</td>\n",
       "      <td>159.0</td>\n",
       "      <td>154.0</td>\n",
       "      <td>136.0</td>\n",
       "      <td>207.0</td>\n",
       "      <td>217.0</td>\n",
       "      <td>...</td>\n",
       "      <td>35.0</td>\n",
       "      <td>78.0</td>\n",
       "      <td>268.0</td>\n",
       "      <td>99.0</td>\n",
       "      <td>230.0</td>\n",
       "      <td>194.0</td>\n",
       "      <td>276.0</td>\n",
       "      <td>246.0</td>\n",
       "      <td>158.0</td>\n",
       "      <td>166.416667</td>\n",
       "    </tr>\n",
       "    <tr>\n",
       "      <th>2018-08-31 23:00:00</th>\n",
       "      <td>205</td>\n",
       "      <td>8</td>\n",
       "      <td>31</td>\n",
       "      <td>4</td>\n",
       "      <td>23</td>\n",
       "      <td>223.0</td>\n",
       "      <td>159.0</td>\n",
       "      <td>154.0</td>\n",
       "      <td>136.0</td>\n",
       "      <td>207.0</td>\n",
       "      <td>...</td>\n",
       "      <td>46.0</td>\n",
       "      <td>35.0</td>\n",
       "      <td>78.0</td>\n",
       "      <td>268.0</td>\n",
       "      <td>99.0</td>\n",
       "      <td>230.0</td>\n",
       "      <td>194.0</td>\n",
       "      <td>276.0</td>\n",
       "      <td>246.0</td>\n",
       "      <td>169.125000</td>\n",
       "    </tr>\n",
       "  </tbody>\n",
       "</table>\n",
       "<p>4416 rows × 30 columns</p>\n",
       "</div>"
      ],
      "text/plain": [
       "                     num_orders  mes  dia  day_of_weak  hora  lag_1  lag_2  \\\n",
       "datetime                                                                     \n",
       "2018-03-01 00:00:00         124    3    1            3     0    NaN    NaN   \n",
       "2018-03-01 01:00:00          85    3    1            3     1  124.0    NaN   \n",
       "2018-03-01 02:00:00          71    3    1            3     2   85.0  124.0   \n",
       "2018-03-01 03:00:00          66    3    1            3     3   71.0   85.0   \n",
       "2018-03-01 04:00:00          43    3    1            3     4   66.0   71.0   \n",
       "...                         ...  ...  ...          ...   ...    ...    ...   \n",
       "2018-08-31 19:00:00         136    8   31            4    19  207.0  217.0   \n",
       "2018-08-31 20:00:00         154    8   31            4    20  136.0  207.0   \n",
       "2018-08-31 21:00:00         159    8   31            4    21  154.0  136.0   \n",
       "2018-08-31 22:00:00         223    8   31            4    22  159.0  154.0   \n",
       "2018-08-31 23:00:00         205    8   31            4    23  223.0  159.0   \n",
       "\n",
       "                     lag_3  lag_4  lag_5  ...  lag_16  lag_17  lag_18  lag_19  \\\n",
       "datetime                                  ...                                   \n",
       "2018-03-01 00:00:00    NaN    NaN    NaN  ...     NaN     NaN     NaN     NaN   \n",
       "2018-03-01 01:00:00    NaN    NaN    NaN  ...     NaN     NaN     NaN     NaN   \n",
       "2018-03-01 02:00:00    NaN    NaN    NaN  ...     NaN     NaN     NaN     NaN   \n",
       "2018-03-01 03:00:00  124.0    NaN    NaN  ...     NaN     NaN     NaN     NaN   \n",
       "2018-03-01 04:00:00   85.0  124.0    NaN  ...     NaN     NaN     NaN     NaN   \n",
       "...                    ...    ...    ...  ...     ...     ...     ...     ...   \n",
       "2018-08-31 19:00:00  197.0  116.0  133.0  ...    99.0   230.0   194.0   276.0   \n",
       "2018-08-31 20:00:00  217.0  197.0  116.0  ...   268.0    99.0   230.0   194.0   \n",
       "2018-08-31 21:00:00  207.0  217.0  197.0  ...    78.0   268.0    99.0   230.0   \n",
       "2018-08-31 22:00:00  136.0  207.0  217.0  ...    35.0    78.0   268.0    99.0   \n",
       "2018-08-31 23:00:00  154.0  136.0  207.0  ...    46.0    35.0    78.0   268.0   \n",
       "\n",
       "                     lag_20  lag_21  lag_22  lag_23  lag_24  rolling_mean  \n",
       "datetime                                                                   \n",
       "2018-03-01 00:00:00     NaN     NaN     NaN     NaN     NaN           NaN  \n",
       "2018-03-01 01:00:00     NaN     NaN     NaN     NaN     NaN           NaN  \n",
       "2018-03-01 02:00:00     NaN     NaN     NaN     NaN     NaN           NaN  \n",
       "2018-03-01 03:00:00     NaN     NaN     NaN     NaN     NaN           NaN  \n",
       "2018-03-01 04:00:00     NaN     NaN     NaN     NaN     NaN           NaN  \n",
       "...                     ...     ...     ...     ...     ...           ...  \n",
       "2018-08-31 19:00:00   246.0   158.0   198.0   142.0    72.0    164.875000  \n",
       "2018-08-31 20:00:00   276.0   246.0   158.0   198.0   142.0    167.541667  \n",
       "2018-08-31 21:00:00   194.0   276.0   246.0   158.0   198.0    168.041667  \n",
       "2018-08-31 22:00:00   230.0   194.0   276.0   246.0   158.0    166.416667  \n",
       "2018-08-31 23:00:00    99.0   230.0   194.0   276.0   246.0    169.125000  \n",
       "\n",
       "[4416 rows x 30 columns]"
      ]
     },
     "execution_count": 11,
     "metadata": {},
     "output_type": "execute_result"
    }
   ],
   "source": [
    "make_feactures(df_clean,24,24)\n",
    "\n",
    "df_clean"
   ]
  },
  {
   "cell_type": "code",
   "execution_count": 12,
   "metadata": {
    "trusted": false
   },
   "outputs": [
    {
     "name": "stdout",
     "output_type": "stream",
     "text": [
      "<class 'pandas.core.frame.DataFrame'>\n",
      "DatetimeIndex: 4392 entries, 2018-03-02 00:00:00 to 2018-08-31 23:00:00\n",
      "Freq: h\n",
      "Data columns (total 30 columns):\n",
      " #   Column        Non-Null Count  Dtype  \n",
      "---  ------        --------------  -----  \n",
      " 0   num_orders    4392 non-null   int64  \n",
      " 1   mes           4392 non-null   int32  \n",
      " 2   dia           4392 non-null   int32  \n",
      " 3   day_of_weak   4392 non-null   int32  \n",
      " 4   hora          4392 non-null   int32  \n",
      " 5   lag_1         4392 non-null   float64\n",
      " 6   lag_2         4392 non-null   float64\n",
      " 7   lag_3         4392 non-null   float64\n",
      " 8   lag_4         4392 non-null   float64\n",
      " 9   lag_5         4392 non-null   float64\n",
      " 10  lag_6         4392 non-null   float64\n",
      " 11  lag_7         4392 non-null   float64\n",
      " 12  lag_8         4392 non-null   float64\n",
      " 13  lag_9         4392 non-null   float64\n",
      " 14  lag_10        4392 non-null   float64\n",
      " 15  lag_11        4392 non-null   float64\n",
      " 16  lag_12        4392 non-null   float64\n",
      " 17  lag_13        4392 non-null   float64\n",
      " 18  lag_14        4392 non-null   float64\n",
      " 19  lag_15        4392 non-null   float64\n",
      " 20  lag_16        4392 non-null   float64\n",
      " 21  lag_17        4392 non-null   float64\n",
      " 22  lag_18        4392 non-null   float64\n",
      " 23  lag_19        4392 non-null   float64\n",
      " 24  lag_20        4392 non-null   float64\n",
      " 25  lag_21        4392 non-null   float64\n",
      " 26  lag_22        4392 non-null   float64\n",
      " 27  lag_23        4392 non-null   float64\n",
      " 28  lag_24        4392 non-null   float64\n",
      " 29  rolling_mean  4392 non-null   float64\n",
      "dtypes: float64(25), int32(4), int64(1)\n",
      "memory usage: 995.1 KB\n"
     ]
    }
   ],
   "source": [
    "df_clean.dropna(inplace=True)\n",
    "df_clean.info()"
   ]
  },
  {
   "cell_type": "markdown",
   "metadata": {},
   "source": [
    "### Creacion de Modelos"
   ]
  },
  {
   "cell_type": "code",
   "execution_count": 13,
   "metadata": {
    "trusted": false
   },
   "outputs": [],
   "source": [
    "from sklearn.model_selection import train_test_split\n",
    "from sklearn.metrics import mean_squared_error\n",
    "import math"
   ]
  },
  {
   "cell_type": "code",
   "execution_count": 14,
   "metadata": {
    "trusted": false
   },
   "outputs": [],
   "source": [
    "train_valid, test = train_test_split(df_clean, shuffle=False, test_size=0.1)"
   ]
  },
  {
   "cell_type": "code",
   "execution_count": 15,
   "metadata": {
    "trusted": false
   },
   "outputs": [],
   "source": [
    "train, valid = train_test_split(train_valid, shuffle=False, test_size=0.1)"
   ]
  },
  {
   "cell_type": "code",
   "execution_count": 16,
   "metadata": {
    "trusted": false
   },
   "outputs": [],
   "source": [
    "train_feactures = train.drop(['num_orders'], axis = 1)\n",
    "train_feactures_g = train_feactures \n",
    "\n",
    "test_feactures = test.drop(['num_orders'], axis = 1)\n",
    "test_feactures_g = test_feactures\n",
    "\n",
    "valid_feactures = valid.drop(['num_orders'], axis = 1)\n",
    "valid_feactures_g = valid_feactures\n",
    "#--------------------------------------------\n",
    "train_target = train['num_orders']\n",
    "train_target_g = train_target \n",
    "\n",
    "test_target = test['num_orders']\n",
    "test_target_g = test_target \n",
    "\n",
    "valid_target = valid['num_orders']\n",
    "valid_target_g = valid_target\n"
   ]
  },
  {
   "cell_type": "markdown",
   "metadata": {},
   "source": [
    "<div class=\"alert alert-block alert-success\">\n",
    "<b>Comentario del revisor (1ra Iteracion)</b> <a class=“tocSkip”></a>\n",
    "\n",
    "Muy bien, dividiste los datos en los sets necesarios y extrajiste características extra para darle más información al modelo, esto es un paso importante para asegurar un correcto desempeño\n",
    "</div>"
   ]
  },
  {
   "cell_type": "code",
   "execution_count": 17,
   "metadata": {
    "trusted": false
   },
   "outputs": [],
   "source": [
    "global train_feactures_g , test_feactures_g, valid_feactures_g, train_target_g, test_target_g,valid_target_g"
   ]
  },
  {
   "cell_type": "code",
   "execution_count": 18,
   "metadata": {
    "trusted": false
   },
   "outputs": [],
   "source": [
    "def rmse (real, pred):\n",
    "    return math.sqrt(mean_squared_error(real,pred))"
   ]
  },
  {
   "cell_type": "markdown",
   "metadata": {},
   "source": [
    "#### regrecion lineal"
   ]
  },
  {
   "cell_type": "code",
   "execution_count": 19,
   "metadata": {
    "trusted": false
   },
   "outputs": [],
   "source": [
    "from sklearn.linear_model import LinearRegression"
   ]
  },
  {
   "cell_type": "code",
   "execution_count": 20,
   "metadata": {
    "trusted": false
   },
   "outputs": [],
   "source": [
    "model_rl = LinearRegression()"
   ]
  },
  {
   "cell_type": "code",
   "execution_count": 21,
   "metadata": {
    "trusted": false
   },
   "outputs": [
    {
     "data": {
      "text/html": [
       "<style>#sk-container-id-1 {\n",
       "  /* Definition of color scheme common for light and dark mode */\n",
       "  --sklearn-color-text: #000;\n",
       "  --sklearn-color-text-muted: #666;\n",
       "  --sklearn-color-line: gray;\n",
       "  /* Definition of color scheme for unfitted estimators */\n",
       "  --sklearn-color-unfitted-level-0: #fff5e6;\n",
       "  --sklearn-color-unfitted-level-1: #f6e4d2;\n",
       "  --sklearn-color-unfitted-level-2: #ffe0b3;\n",
       "  --sklearn-color-unfitted-level-3: chocolate;\n",
       "  /* Definition of color scheme for fitted estimators */\n",
       "  --sklearn-color-fitted-level-0: #f0f8ff;\n",
       "  --sklearn-color-fitted-level-1: #d4ebff;\n",
       "  --sklearn-color-fitted-level-2: #b3dbfd;\n",
       "  --sklearn-color-fitted-level-3: cornflowerblue;\n",
       "\n",
       "  /* Specific color for light theme */\n",
       "  --sklearn-color-text-on-default-background: var(--sg-text-color, var(--theme-code-foreground, var(--jp-content-font-color1, black)));\n",
       "  --sklearn-color-background: var(--sg-background-color, var(--theme-background, var(--jp-layout-color0, white)));\n",
       "  --sklearn-color-border-box: var(--sg-text-color, var(--theme-code-foreground, var(--jp-content-font-color1, black)));\n",
       "  --sklearn-color-icon: #696969;\n",
       "\n",
       "  @media (prefers-color-scheme: dark) {\n",
       "    /* Redefinition of color scheme for dark theme */\n",
       "    --sklearn-color-text-on-default-background: var(--sg-text-color, var(--theme-code-foreground, var(--jp-content-font-color1, white)));\n",
       "    --sklearn-color-background: var(--sg-background-color, var(--theme-background, var(--jp-layout-color0, #111)));\n",
       "    --sklearn-color-border-box: var(--sg-text-color, var(--theme-code-foreground, var(--jp-content-font-color1, white)));\n",
       "    --sklearn-color-icon: #878787;\n",
       "  }\n",
       "}\n",
       "\n",
       "#sk-container-id-1 {\n",
       "  color: var(--sklearn-color-text);\n",
       "}\n",
       "\n",
       "#sk-container-id-1 pre {\n",
       "  padding: 0;\n",
       "}\n",
       "\n",
       "#sk-container-id-1 input.sk-hidden--visually {\n",
       "  border: 0;\n",
       "  clip: rect(1px 1px 1px 1px);\n",
       "  clip: rect(1px, 1px, 1px, 1px);\n",
       "  height: 1px;\n",
       "  margin: -1px;\n",
       "  overflow: hidden;\n",
       "  padding: 0;\n",
       "  position: absolute;\n",
       "  width: 1px;\n",
       "}\n",
       "\n",
       "#sk-container-id-1 div.sk-dashed-wrapped {\n",
       "  border: 1px dashed var(--sklearn-color-line);\n",
       "  margin: 0 0.4em 0.5em 0.4em;\n",
       "  box-sizing: border-box;\n",
       "  padding-bottom: 0.4em;\n",
       "  background-color: var(--sklearn-color-background);\n",
       "}\n",
       "\n",
       "#sk-container-id-1 div.sk-container {\n",
       "  /* jupyter's `normalize.less` sets `[hidden] { display: none; }`\n",
       "     but bootstrap.min.css set `[hidden] { display: none !important; }`\n",
       "     so we also need the `!important` here to be able to override the\n",
       "     default hidden behavior on the sphinx rendered scikit-learn.org.\n",
       "     See: https://github.com/scikit-learn/scikit-learn/issues/21755 */\n",
       "  display: inline-block !important;\n",
       "  position: relative;\n",
       "}\n",
       "\n",
       "#sk-container-id-1 div.sk-text-repr-fallback {\n",
       "  display: none;\n",
       "}\n",
       "\n",
       "div.sk-parallel-item,\n",
       "div.sk-serial,\n",
       "div.sk-item {\n",
       "  /* draw centered vertical line to link estimators */\n",
       "  background-image: linear-gradient(var(--sklearn-color-text-on-default-background), var(--sklearn-color-text-on-default-background));\n",
       "  background-size: 2px 100%;\n",
       "  background-repeat: no-repeat;\n",
       "  background-position: center center;\n",
       "}\n",
       "\n",
       "/* Parallel-specific style estimator block */\n",
       "\n",
       "#sk-container-id-1 div.sk-parallel-item::after {\n",
       "  content: \"\";\n",
       "  width: 100%;\n",
       "  border-bottom: 2px solid var(--sklearn-color-text-on-default-background);\n",
       "  flex-grow: 1;\n",
       "}\n",
       "\n",
       "#sk-container-id-1 div.sk-parallel {\n",
       "  display: flex;\n",
       "  align-items: stretch;\n",
       "  justify-content: center;\n",
       "  background-color: var(--sklearn-color-background);\n",
       "  position: relative;\n",
       "}\n",
       "\n",
       "#sk-container-id-1 div.sk-parallel-item {\n",
       "  display: flex;\n",
       "  flex-direction: column;\n",
       "}\n",
       "\n",
       "#sk-container-id-1 div.sk-parallel-item:first-child::after {\n",
       "  align-self: flex-end;\n",
       "  width: 50%;\n",
       "}\n",
       "\n",
       "#sk-container-id-1 div.sk-parallel-item:last-child::after {\n",
       "  align-self: flex-start;\n",
       "  width: 50%;\n",
       "}\n",
       "\n",
       "#sk-container-id-1 div.sk-parallel-item:only-child::after {\n",
       "  width: 0;\n",
       "}\n",
       "\n",
       "/* Serial-specific style estimator block */\n",
       "\n",
       "#sk-container-id-1 div.sk-serial {\n",
       "  display: flex;\n",
       "  flex-direction: column;\n",
       "  align-items: center;\n",
       "  background-color: var(--sklearn-color-background);\n",
       "  padding-right: 1em;\n",
       "  padding-left: 1em;\n",
       "}\n",
       "\n",
       "\n",
       "/* Toggleable style: style used for estimator/Pipeline/ColumnTransformer box that is\n",
       "clickable and can be expanded/collapsed.\n",
       "- Pipeline and ColumnTransformer use this feature and define the default style\n",
       "- Estimators will overwrite some part of the style using the `sk-estimator` class\n",
       "*/\n",
       "\n",
       "/* Pipeline and ColumnTransformer style (default) */\n",
       "\n",
       "#sk-container-id-1 div.sk-toggleable {\n",
       "  /* Default theme specific background. It is overwritten whether we have a\n",
       "  specific estimator or a Pipeline/ColumnTransformer */\n",
       "  background-color: var(--sklearn-color-background);\n",
       "}\n",
       "\n",
       "/* Toggleable label */\n",
       "#sk-container-id-1 label.sk-toggleable__label {\n",
       "  cursor: pointer;\n",
       "  display: flex;\n",
       "  width: 100%;\n",
       "  margin-bottom: 0;\n",
       "  padding: 0.5em;\n",
       "  box-sizing: border-box;\n",
       "  text-align: center;\n",
       "  align-items: start;\n",
       "  justify-content: space-between;\n",
       "  gap: 0.5em;\n",
       "}\n",
       "\n",
       "#sk-container-id-1 label.sk-toggleable__label .caption {\n",
       "  font-size: 0.6rem;\n",
       "  font-weight: lighter;\n",
       "  color: var(--sklearn-color-text-muted);\n",
       "}\n",
       "\n",
       "#sk-container-id-1 label.sk-toggleable__label-arrow:before {\n",
       "  /* Arrow on the left of the label */\n",
       "  content: \"▸\";\n",
       "  float: left;\n",
       "  margin-right: 0.25em;\n",
       "  color: var(--sklearn-color-icon);\n",
       "}\n",
       "\n",
       "#sk-container-id-1 label.sk-toggleable__label-arrow:hover:before {\n",
       "  color: var(--sklearn-color-text);\n",
       "}\n",
       "\n",
       "/* Toggleable content - dropdown */\n",
       "\n",
       "#sk-container-id-1 div.sk-toggleable__content {\n",
       "  display: none;\n",
       "  text-align: left;\n",
       "  /* unfitted */\n",
       "  background-color: var(--sklearn-color-unfitted-level-0);\n",
       "}\n",
       "\n",
       "#sk-container-id-1 div.sk-toggleable__content.fitted {\n",
       "  /* fitted */\n",
       "  background-color: var(--sklearn-color-fitted-level-0);\n",
       "}\n",
       "\n",
       "#sk-container-id-1 div.sk-toggleable__content pre {\n",
       "  margin: 0.2em;\n",
       "  border-radius: 0.25em;\n",
       "  color: var(--sklearn-color-text);\n",
       "  /* unfitted */\n",
       "  background-color: var(--sklearn-color-unfitted-level-0);\n",
       "}\n",
       "\n",
       "#sk-container-id-1 div.sk-toggleable__content.fitted pre {\n",
       "  /* unfitted */\n",
       "  background-color: var(--sklearn-color-fitted-level-0);\n",
       "}\n",
       "\n",
       "#sk-container-id-1 input.sk-toggleable__control:checked~div.sk-toggleable__content {\n",
       "  /* Expand drop-down */\n",
       "  display: block;\n",
       "  width: 100%;\n",
       "  overflow: visible;\n",
       "}\n",
       "\n",
       "#sk-container-id-1 input.sk-toggleable__control:checked~label.sk-toggleable__label-arrow:before {\n",
       "  content: \"▾\";\n",
       "}\n",
       "\n",
       "/* Pipeline/ColumnTransformer-specific style */\n",
       "\n",
       "#sk-container-id-1 div.sk-label input.sk-toggleable__control:checked~label.sk-toggleable__label {\n",
       "  color: var(--sklearn-color-text);\n",
       "  background-color: var(--sklearn-color-unfitted-level-2);\n",
       "}\n",
       "\n",
       "#sk-container-id-1 div.sk-label.fitted input.sk-toggleable__control:checked~label.sk-toggleable__label {\n",
       "  background-color: var(--sklearn-color-fitted-level-2);\n",
       "}\n",
       "\n",
       "/* Estimator-specific style */\n",
       "\n",
       "/* Colorize estimator box */\n",
       "#sk-container-id-1 div.sk-estimator input.sk-toggleable__control:checked~label.sk-toggleable__label {\n",
       "  /* unfitted */\n",
       "  background-color: var(--sklearn-color-unfitted-level-2);\n",
       "}\n",
       "\n",
       "#sk-container-id-1 div.sk-estimator.fitted input.sk-toggleable__control:checked~label.sk-toggleable__label {\n",
       "  /* fitted */\n",
       "  background-color: var(--sklearn-color-fitted-level-2);\n",
       "}\n",
       "\n",
       "#sk-container-id-1 div.sk-label label.sk-toggleable__label,\n",
       "#sk-container-id-1 div.sk-label label {\n",
       "  /* The background is the default theme color */\n",
       "  color: var(--sklearn-color-text-on-default-background);\n",
       "}\n",
       "\n",
       "/* On hover, darken the color of the background */\n",
       "#sk-container-id-1 div.sk-label:hover label.sk-toggleable__label {\n",
       "  color: var(--sklearn-color-text);\n",
       "  background-color: var(--sklearn-color-unfitted-level-2);\n",
       "}\n",
       "\n",
       "/* Label box, darken color on hover, fitted */\n",
       "#sk-container-id-1 div.sk-label.fitted:hover label.sk-toggleable__label.fitted {\n",
       "  color: var(--sklearn-color-text);\n",
       "  background-color: var(--sklearn-color-fitted-level-2);\n",
       "}\n",
       "\n",
       "/* Estimator label */\n",
       "\n",
       "#sk-container-id-1 div.sk-label label {\n",
       "  font-family: monospace;\n",
       "  font-weight: bold;\n",
       "  display: inline-block;\n",
       "  line-height: 1.2em;\n",
       "}\n",
       "\n",
       "#sk-container-id-1 div.sk-label-container {\n",
       "  text-align: center;\n",
       "}\n",
       "\n",
       "/* Estimator-specific */\n",
       "#sk-container-id-1 div.sk-estimator {\n",
       "  font-family: monospace;\n",
       "  border: 1px dotted var(--sklearn-color-border-box);\n",
       "  border-radius: 0.25em;\n",
       "  box-sizing: border-box;\n",
       "  margin-bottom: 0.5em;\n",
       "  /* unfitted */\n",
       "  background-color: var(--sklearn-color-unfitted-level-0);\n",
       "}\n",
       "\n",
       "#sk-container-id-1 div.sk-estimator.fitted {\n",
       "  /* fitted */\n",
       "  background-color: var(--sklearn-color-fitted-level-0);\n",
       "}\n",
       "\n",
       "/* on hover */\n",
       "#sk-container-id-1 div.sk-estimator:hover {\n",
       "  /* unfitted */\n",
       "  background-color: var(--sklearn-color-unfitted-level-2);\n",
       "}\n",
       "\n",
       "#sk-container-id-1 div.sk-estimator.fitted:hover {\n",
       "  /* fitted */\n",
       "  background-color: var(--sklearn-color-fitted-level-2);\n",
       "}\n",
       "\n",
       "/* Specification for estimator info (e.g. \"i\" and \"?\") */\n",
       "\n",
       "/* Common style for \"i\" and \"?\" */\n",
       "\n",
       ".sk-estimator-doc-link,\n",
       "a:link.sk-estimator-doc-link,\n",
       "a:visited.sk-estimator-doc-link {\n",
       "  float: right;\n",
       "  font-size: smaller;\n",
       "  line-height: 1em;\n",
       "  font-family: monospace;\n",
       "  background-color: var(--sklearn-color-background);\n",
       "  border-radius: 1em;\n",
       "  height: 1em;\n",
       "  width: 1em;\n",
       "  text-decoration: none !important;\n",
       "  margin-left: 0.5em;\n",
       "  text-align: center;\n",
       "  /* unfitted */\n",
       "  border: var(--sklearn-color-unfitted-level-1) 1pt solid;\n",
       "  color: var(--sklearn-color-unfitted-level-1);\n",
       "}\n",
       "\n",
       ".sk-estimator-doc-link.fitted,\n",
       "a:link.sk-estimator-doc-link.fitted,\n",
       "a:visited.sk-estimator-doc-link.fitted {\n",
       "  /* fitted */\n",
       "  border: var(--sklearn-color-fitted-level-1) 1pt solid;\n",
       "  color: var(--sklearn-color-fitted-level-1);\n",
       "}\n",
       "\n",
       "/* On hover */\n",
       "div.sk-estimator:hover .sk-estimator-doc-link:hover,\n",
       ".sk-estimator-doc-link:hover,\n",
       "div.sk-label-container:hover .sk-estimator-doc-link:hover,\n",
       ".sk-estimator-doc-link:hover {\n",
       "  /* unfitted */\n",
       "  background-color: var(--sklearn-color-unfitted-level-3);\n",
       "  color: var(--sklearn-color-background);\n",
       "  text-decoration: none;\n",
       "}\n",
       "\n",
       "div.sk-estimator.fitted:hover .sk-estimator-doc-link.fitted:hover,\n",
       ".sk-estimator-doc-link.fitted:hover,\n",
       "div.sk-label-container:hover .sk-estimator-doc-link.fitted:hover,\n",
       ".sk-estimator-doc-link.fitted:hover {\n",
       "  /* fitted */\n",
       "  background-color: var(--sklearn-color-fitted-level-3);\n",
       "  color: var(--sklearn-color-background);\n",
       "  text-decoration: none;\n",
       "}\n",
       "\n",
       "/* Span, style for the box shown on hovering the info icon */\n",
       ".sk-estimator-doc-link span {\n",
       "  display: none;\n",
       "  z-index: 9999;\n",
       "  position: relative;\n",
       "  font-weight: normal;\n",
       "  right: .2ex;\n",
       "  padding: .5ex;\n",
       "  margin: .5ex;\n",
       "  width: min-content;\n",
       "  min-width: 20ex;\n",
       "  max-width: 50ex;\n",
       "  color: var(--sklearn-color-text);\n",
       "  box-shadow: 2pt 2pt 4pt #999;\n",
       "  /* unfitted */\n",
       "  background: var(--sklearn-color-unfitted-level-0);\n",
       "  border: .5pt solid var(--sklearn-color-unfitted-level-3);\n",
       "}\n",
       "\n",
       ".sk-estimator-doc-link.fitted span {\n",
       "  /* fitted */\n",
       "  background: var(--sklearn-color-fitted-level-0);\n",
       "  border: var(--sklearn-color-fitted-level-3);\n",
       "}\n",
       "\n",
       ".sk-estimator-doc-link:hover span {\n",
       "  display: block;\n",
       "}\n",
       "\n",
       "/* \"?\"-specific style due to the `<a>` HTML tag */\n",
       "\n",
       "#sk-container-id-1 a.estimator_doc_link {\n",
       "  float: right;\n",
       "  font-size: 1rem;\n",
       "  line-height: 1em;\n",
       "  font-family: monospace;\n",
       "  background-color: var(--sklearn-color-background);\n",
       "  border-radius: 1rem;\n",
       "  height: 1rem;\n",
       "  width: 1rem;\n",
       "  text-decoration: none;\n",
       "  /* unfitted */\n",
       "  color: var(--sklearn-color-unfitted-level-1);\n",
       "  border: var(--sklearn-color-unfitted-level-1) 1pt solid;\n",
       "}\n",
       "\n",
       "#sk-container-id-1 a.estimator_doc_link.fitted {\n",
       "  /* fitted */\n",
       "  border: var(--sklearn-color-fitted-level-1) 1pt solid;\n",
       "  color: var(--sklearn-color-fitted-level-1);\n",
       "}\n",
       "\n",
       "/* On hover */\n",
       "#sk-container-id-1 a.estimator_doc_link:hover {\n",
       "  /* unfitted */\n",
       "  background-color: var(--sklearn-color-unfitted-level-3);\n",
       "  color: var(--sklearn-color-background);\n",
       "  text-decoration: none;\n",
       "}\n",
       "\n",
       "#sk-container-id-1 a.estimator_doc_link.fitted:hover {\n",
       "  /* fitted */\n",
       "  background-color: var(--sklearn-color-fitted-level-3);\n",
       "}\n",
       "\n",
       ".estimator-table summary {\n",
       "    padding: .5rem;\n",
       "    font-family: monospace;\n",
       "    cursor: pointer;\n",
       "}\n",
       "\n",
       ".estimator-table details[open] {\n",
       "    padding-left: 0.1rem;\n",
       "    padding-right: 0.1rem;\n",
       "    padding-bottom: 0.3rem;\n",
       "}\n",
       "\n",
       ".estimator-table .parameters-table {\n",
       "    margin-left: auto !important;\n",
       "    margin-right: auto !important;\n",
       "}\n",
       "\n",
       ".estimator-table .parameters-table tr:nth-child(odd) {\n",
       "    background-color: #fff;\n",
       "}\n",
       "\n",
       ".estimator-table .parameters-table tr:nth-child(even) {\n",
       "    background-color: #f6f6f6;\n",
       "}\n",
       "\n",
       ".estimator-table .parameters-table tr:hover {\n",
       "    background-color: #e0e0e0;\n",
       "}\n",
       "\n",
       ".estimator-table table td {\n",
       "    border: 1px solid rgba(106, 105, 104, 0.232);\n",
       "}\n",
       "\n",
       ".user-set td {\n",
       "    color:rgb(255, 94, 0);\n",
       "    text-align: left;\n",
       "}\n",
       "\n",
       ".user-set td.value pre {\n",
       "    color:rgb(255, 94, 0) !important;\n",
       "    background-color: transparent !important;\n",
       "}\n",
       "\n",
       ".default td {\n",
       "    color: black;\n",
       "    text-align: left;\n",
       "}\n",
       "\n",
       ".user-set td i,\n",
       ".default td i {\n",
       "    color: black;\n",
       "}\n",
       "\n",
       ".copy-paste-icon {\n",
       "    background-image: url(data:image/svg+xml;base64,PHN2ZyB4bWxucz0iaHR0cDovL3d3dy53My5vcmcvMjAwMC9zdmciIHZpZXdCb3g9IjAgMCA0NDggNTEyIj48IS0tIUZvbnQgQXdlc29tZSBGcmVlIDYuNy4yIGJ5IEBmb250YXdlc29tZSAtIGh0dHBzOi8vZm9udGF3ZXNvbWUuY29tIExpY2Vuc2UgLSBodHRwczovL2ZvbnRhd2Vzb21lLmNvbS9saWNlbnNlL2ZyZWUgQ29weXJpZ2h0IDIwMjUgRm9udGljb25zLCBJbmMuLS0+PHBhdGggZD0iTTIwOCAwTDMzMi4xIDBjMTIuNyAwIDI0LjkgNS4xIDMzLjkgMTQuMWw2Ny45IDY3LjljOSA5IDE0LjEgMjEuMiAxNC4xIDMzLjlMNDQ4IDMzNmMwIDI2LjUtMjEuNSA0OC00OCA0OGwtMTkyIDBjLTI2LjUgMC00OC0yMS41LTQ4LTQ4bDAtMjg4YzAtMjYuNSAyMS41LTQ4IDQ4LTQ4ek00OCAxMjhsODAgMCAwIDY0LTY0IDAgMCAyNTYgMTkyIDAgMC0zMiA2NCAwIDAgNDhjMCAyNi41LTIxLjUgNDgtNDggNDhMNDggNTEyYy0yNi41IDAtNDgtMjEuNS00OC00OEwwIDE3NmMwLTI2LjUgMjEuNS00OCA0OC00OHoiLz48L3N2Zz4=);\n",
       "    background-repeat: no-repeat;\n",
       "    background-size: 14px 14px;\n",
       "    background-position: 0;\n",
       "    display: inline-block;\n",
       "    width: 14px;\n",
       "    height: 14px;\n",
       "    cursor: pointer;\n",
       "}\n",
       "</style><body><div id=\"sk-container-id-1\" class=\"sk-top-container\"><div class=\"sk-text-repr-fallback\"><pre>LinearRegression()</pre><b>In a Jupyter environment, please rerun this cell to show the HTML representation or trust the notebook. <br />On GitHub, the HTML representation is unable to render, please try loading this page with nbviewer.org.</b></div><div class=\"sk-container\" hidden><div class=\"sk-item\"><div class=\"sk-estimator fitted sk-toggleable\"><input class=\"sk-toggleable__control sk-hidden--visually\" id=\"sk-estimator-id-1\" type=\"checkbox\" checked><label for=\"sk-estimator-id-1\" class=\"sk-toggleable__label fitted sk-toggleable__label-arrow\"><div><div>LinearRegression</div></div><div><a class=\"sk-estimator-doc-link fitted\" rel=\"noreferrer\" target=\"_blank\" href=\"https://scikit-learn.org/1.7/modules/generated/sklearn.linear_model.LinearRegression.html\">?<span>Documentation for LinearRegression</span></a><span class=\"sk-estimator-doc-link fitted\">i<span>Fitted</span></span></div></label><div class=\"sk-toggleable__content fitted\" data-param-prefix=\"\">\n",
       "        <div class=\"estimator-table\">\n",
       "            <details>\n",
       "                <summary>Parameters</summary>\n",
       "                <table class=\"parameters-table\">\n",
       "                  <tbody>\n",
       "                    \n",
       "        <tr class=\"default\">\n",
       "            <td><i class=\"copy-paste-icon\"\n",
       "                 onclick=\"copyToClipboard('fit_intercept',\n",
       "                          this.parentElement.nextElementSibling)\"\n",
       "            ></i></td>\n",
       "            <td class=\"param\">fit_intercept&nbsp;</td>\n",
       "            <td class=\"value\">True</td>\n",
       "        </tr>\n",
       "    \n",
       "\n",
       "        <tr class=\"default\">\n",
       "            <td><i class=\"copy-paste-icon\"\n",
       "                 onclick=\"copyToClipboard('copy_X',\n",
       "                          this.parentElement.nextElementSibling)\"\n",
       "            ></i></td>\n",
       "            <td class=\"param\">copy_X&nbsp;</td>\n",
       "            <td class=\"value\">True</td>\n",
       "        </tr>\n",
       "    \n",
       "\n",
       "        <tr class=\"default\">\n",
       "            <td><i class=\"copy-paste-icon\"\n",
       "                 onclick=\"copyToClipboard('tol',\n",
       "                          this.parentElement.nextElementSibling)\"\n",
       "            ></i></td>\n",
       "            <td class=\"param\">tol&nbsp;</td>\n",
       "            <td class=\"value\">1e-06</td>\n",
       "        </tr>\n",
       "    \n",
       "\n",
       "        <tr class=\"default\">\n",
       "            <td><i class=\"copy-paste-icon\"\n",
       "                 onclick=\"copyToClipboard('n_jobs',\n",
       "                          this.parentElement.nextElementSibling)\"\n",
       "            ></i></td>\n",
       "            <td class=\"param\">n_jobs&nbsp;</td>\n",
       "            <td class=\"value\">None</td>\n",
       "        </tr>\n",
       "    \n",
       "\n",
       "        <tr class=\"default\">\n",
       "            <td><i class=\"copy-paste-icon\"\n",
       "                 onclick=\"copyToClipboard('positive',\n",
       "                          this.parentElement.nextElementSibling)\"\n",
       "            ></i></td>\n",
       "            <td class=\"param\">positive&nbsp;</td>\n",
       "            <td class=\"value\">False</td>\n",
       "        </tr>\n",
       "    \n",
       "                  </tbody>\n",
       "                </table>\n",
       "            </details>\n",
       "        </div>\n",
       "    </div></div></div></div></div><script>function copyToClipboard(text, element) {\n",
       "    // Get the parameter prefix from the closest toggleable content\n",
       "    const toggleableContent = element.closest('.sk-toggleable__content');\n",
       "    const paramPrefix = toggleableContent ? toggleableContent.dataset.paramPrefix : '';\n",
       "    const fullParamName = paramPrefix ? `${paramPrefix}${text}` : text;\n",
       "\n",
       "    const originalStyle = element.style;\n",
       "    const computedStyle = window.getComputedStyle(element);\n",
       "    const originalWidth = computedStyle.width;\n",
       "    const originalHTML = element.innerHTML.replace('Copied!', '');\n",
       "\n",
       "    navigator.clipboard.writeText(fullParamName)\n",
       "        .then(() => {\n",
       "            element.style.width = originalWidth;\n",
       "            element.style.color = 'green';\n",
       "            element.innerHTML = \"Copied!\";\n",
       "\n",
       "            setTimeout(() => {\n",
       "                element.innerHTML = originalHTML;\n",
       "                element.style = originalStyle;\n",
       "            }, 2000);\n",
       "        })\n",
       "        .catch(err => {\n",
       "            console.error('Failed to copy:', err);\n",
       "            element.style.color = 'red';\n",
       "            element.innerHTML = \"Failed!\";\n",
       "            setTimeout(() => {\n",
       "                element.innerHTML = originalHTML;\n",
       "                element.style = originalStyle;\n",
       "            }, 2000);\n",
       "        });\n",
       "    return false;\n",
       "}\n",
       "\n",
       "document.querySelectorAll('.fa-regular.fa-copy').forEach(function(element) {\n",
       "    const toggleableContent = element.closest('.sk-toggleable__content');\n",
       "    const paramPrefix = toggleableContent ? toggleableContent.dataset.paramPrefix : '';\n",
       "    const paramName = element.parentElement.nextElementSibling.textContent.trim();\n",
       "    const fullParamName = paramPrefix ? `${paramPrefix}${paramName}` : paramName;\n",
       "\n",
       "    element.setAttribute('title', fullParamName);\n",
       "});\n",
       "</script></body>"
      ],
      "text/plain": [
       "LinearRegression()"
      ]
     },
     "execution_count": 21,
     "metadata": {},
     "output_type": "execute_result"
    }
   ],
   "source": [
    "model_rl.fit(train_feactures,train_target)"
   ]
  },
  {
   "cell_type": "markdown",
   "metadata": {},
   "source": [
    "#### lgbm "
   ]
  },
  {
   "cell_type": "code",
   "execution_count": 22,
   "metadata": {
    "trusted": false
   },
   "outputs": [],
   "source": [
    "import lightgbm as lgb"
   ]
  },
  {
   "cell_type": "code",
   "execution_count": 23,
   "metadata": {
    "trusted": false
   },
   "outputs": [],
   "source": [
    "model_lgb = lgb.LGBMRegressor(num_interaction = 5000,learning_rate=0.02, verbose = 1, metric ='rmse')"
   ]
  },
  {
   "cell_type": "code",
   "execution_count": 24,
   "metadata": {
    "trusted": false
   },
   "outputs": [
    {
     "name": "stdout",
     "output_type": "stream",
     "text": [
      "[LightGBM] [Warning] Unknown parameter: num_interaction\n",
      "[LightGBM] [Warning] Unknown parameter: num_interaction\n",
      "[LightGBM] [Info] Auto-choosing col-wise multi-threading, the overhead of testing was 0.000546 seconds.\n",
      "You can set `force_col_wise=true` to remove the overhead.\n",
      "[LightGBM] [Info] Total Bins 4563\n",
      "[LightGBM] [Info] Number of data points in the train set: 3556, number of used features: 29\n",
      "[LightGBM] [Warning] Unknown parameter: num_interaction\n",
      "[LightGBM] [Info] Start training from score 74.948538\n"
     ]
    },
    {
     "data": {
      "text/html": [
       "<style>#sk-container-id-2 {\n",
       "  /* Definition of color scheme common for light and dark mode */\n",
       "  --sklearn-color-text: #000;\n",
       "  --sklearn-color-text-muted: #666;\n",
       "  --sklearn-color-line: gray;\n",
       "  /* Definition of color scheme for unfitted estimators */\n",
       "  --sklearn-color-unfitted-level-0: #fff5e6;\n",
       "  --sklearn-color-unfitted-level-1: #f6e4d2;\n",
       "  --sklearn-color-unfitted-level-2: #ffe0b3;\n",
       "  --sklearn-color-unfitted-level-3: chocolate;\n",
       "  /* Definition of color scheme for fitted estimators */\n",
       "  --sklearn-color-fitted-level-0: #f0f8ff;\n",
       "  --sklearn-color-fitted-level-1: #d4ebff;\n",
       "  --sklearn-color-fitted-level-2: #b3dbfd;\n",
       "  --sklearn-color-fitted-level-3: cornflowerblue;\n",
       "\n",
       "  /* Specific color for light theme */\n",
       "  --sklearn-color-text-on-default-background: var(--sg-text-color, var(--theme-code-foreground, var(--jp-content-font-color1, black)));\n",
       "  --sklearn-color-background: var(--sg-background-color, var(--theme-background, var(--jp-layout-color0, white)));\n",
       "  --sklearn-color-border-box: var(--sg-text-color, var(--theme-code-foreground, var(--jp-content-font-color1, black)));\n",
       "  --sklearn-color-icon: #696969;\n",
       "\n",
       "  @media (prefers-color-scheme: dark) {\n",
       "    /* Redefinition of color scheme for dark theme */\n",
       "    --sklearn-color-text-on-default-background: var(--sg-text-color, var(--theme-code-foreground, var(--jp-content-font-color1, white)));\n",
       "    --sklearn-color-background: var(--sg-background-color, var(--theme-background, var(--jp-layout-color0, #111)));\n",
       "    --sklearn-color-border-box: var(--sg-text-color, var(--theme-code-foreground, var(--jp-content-font-color1, white)));\n",
       "    --sklearn-color-icon: #878787;\n",
       "  }\n",
       "}\n",
       "\n",
       "#sk-container-id-2 {\n",
       "  color: var(--sklearn-color-text);\n",
       "}\n",
       "\n",
       "#sk-container-id-2 pre {\n",
       "  padding: 0;\n",
       "}\n",
       "\n",
       "#sk-container-id-2 input.sk-hidden--visually {\n",
       "  border: 0;\n",
       "  clip: rect(1px 1px 1px 1px);\n",
       "  clip: rect(1px, 1px, 1px, 1px);\n",
       "  height: 1px;\n",
       "  margin: -1px;\n",
       "  overflow: hidden;\n",
       "  padding: 0;\n",
       "  position: absolute;\n",
       "  width: 1px;\n",
       "}\n",
       "\n",
       "#sk-container-id-2 div.sk-dashed-wrapped {\n",
       "  border: 1px dashed var(--sklearn-color-line);\n",
       "  margin: 0 0.4em 0.5em 0.4em;\n",
       "  box-sizing: border-box;\n",
       "  padding-bottom: 0.4em;\n",
       "  background-color: var(--sklearn-color-background);\n",
       "}\n",
       "\n",
       "#sk-container-id-2 div.sk-container {\n",
       "  /* jupyter's `normalize.less` sets `[hidden] { display: none; }`\n",
       "     but bootstrap.min.css set `[hidden] { display: none !important; }`\n",
       "     so we also need the `!important` here to be able to override the\n",
       "     default hidden behavior on the sphinx rendered scikit-learn.org.\n",
       "     See: https://github.com/scikit-learn/scikit-learn/issues/21755 */\n",
       "  display: inline-block !important;\n",
       "  position: relative;\n",
       "}\n",
       "\n",
       "#sk-container-id-2 div.sk-text-repr-fallback {\n",
       "  display: none;\n",
       "}\n",
       "\n",
       "div.sk-parallel-item,\n",
       "div.sk-serial,\n",
       "div.sk-item {\n",
       "  /* draw centered vertical line to link estimators */\n",
       "  background-image: linear-gradient(var(--sklearn-color-text-on-default-background), var(--sklearn-color-text-on-default-background));\n",
       "  background-size: 2px 100%;\n",
       "  background-repeat: no-repeat;\n",
       "  background-position: center center;\n",
       "}\n",
       "\n",
       "/* Parallel-specific style estimator block */\n",
       "\n",
       "#sk-container-id-2 div.sk-parallel-item::after {\n",
       "  content: \"\";\n",
       "  width: 100%;\n",
       "  border-bottom: 2px solid var(--sklearn-color-text-on-default-background);\n",
       "  flex-grow: 1;\n",
       "}\n",
       "\n",
       "#sk-container-id-2 div.sk-parallel {\n",
       "  display: flex;\n",
       "  align-items: stretch;\n",
       "  justify-content: center;\n",
       "  background-color: var(--sklearn-color-background);\n",
       "  position: relative;\n",
       "}\n",
       "\n",
       "#sk-container-id-2 div.sk-parallel-item {\n",
       "  display: flex;\n",
       "  flex-direction: column;\n",
       "}\n",
       "\n",
       "#sk-container-id-2 div.sk-parallel-item:first-child::after {\n",
       "  align-self: flex-end;\n",
       "  width: 50%;\n",
       "}\n",
       "\n",
       "#sk-container-id-2 div.sk-parallel-item:last-child::after {\n",
       "  align-self: flex-start;\n",
       "  width: 50%;\n",
       "}\n",
       "\n",
       "#sk-container-id-2 div.sk-parallel-item:only-child::after {\n",
       "  width: 0;\n",
       "}\n",
       "\n",
       "/* Serial-specific style estimator block */\n",
       "\n",
       "#sk-container-id-2 div.sk-serial {\n",
       "  display: flex;\n",
       "  flex-direction: column;\n",
       "  align-items: center;\n",
       "  background-color: var(--sklearn-color-background);\n",
       "  padding-right: 1em;\n",
       "  padding-left: 1em;\n",
       "}\n",
       "\n",
       "\n",
       "/* Toggleable style: style used for estimator/Pipeline/ColumnTransformer box that is\n",
       "clickable and can be expanded/collapsed.\n",
       "- Pipeline and ColumnTransformer use this feature and define the default style\n",
       "- Estimators will overwrite some part of the style using the `sk-estimator` class\n",
       "*/\n",
       "\n",
       "/* Pipeline and ColumnTransformer style (default) */\n",
       "\n",
       "#sk-container-id-2 div.sk-toggleable {\n",
       "  /* Default theme specific background. It is overwritten whether we have a\n",
       "  specific estimator or a Pipeline/ColumnTransformer */\n",
       "  background-color: var(--sklearn-color-background);\n",
       "}\n",
       "\n",
       "/* Toggleable label */\n",
       "#sk-container-id-2 label.sk-toggleable__label {\n",
       "  cursor: pointer;\n",
       "  display: flex;\n",
       "  width: 100%;\n",
       "  margin-bottom: 0;\n",
       "  padding: 0.5em;\n",
       "  box-sizing: border-box;\n",
       "  text-align: center;\n",
       "  align-items: start;\n",
       "  justify-content: space-between;\n",
       "  gap: 0.5em;\n",
       "}\n",
       "\n",
       "#sk-container-id-2 label.sk-toggleable__label .caption {\n",
       "  font-size: 0.6rem;\n",
       "  font-weight: lighter;\n",
       "  color: var(--sklearn-color-text-muted);\n",
       "}\n",
       "\n",
       "#sk-container-id-2 label.sk-toggleable__label-arrow:before {\n",
       "  /* Arrow on the left of the label */\n",
       "  content: \"▸\";\n",
       "  float: left;\n",
       "  margin-right: 0.25em;\n",
       "  color: var(--sklearn-color-icon);\n",
       "}\n",
       "\n",
       "#sk-container-id-2 label.sk-toggleable__label-arrow:hover:before {\n",
       "  color: var(--sklearn-color-text);\n",
       "}\n",
       "\n",
       "/* Toggleable content - dropdown */\n",
       "\n",
       "#sk-container-id-2 div.sk-toggleable__content {\n",
       "  display: none;\n",
       "  text-align: left;\n",
       "  /* unfitted */\n",
       "  background-color: var(--sklearn-color-unfitted-level-0);\n",
       "}\n",
       "\n",
       "#sk-container-id-2 div.sk-toggleable__content.fitted {\n",
       "  /* fitted */\n",
       "  background-color: var(--sklearn-color-fitted-level-0);\n",
       "}\n",
       "\n",
       "#sk-container-id-2 div.sk-toggleable__content pre {\n",
       "  margin: 0.2em;\n",
       "  border-radius: 0.25em;\n",
       "  color: var(--sklearn-color-text);\n",
       "  /* unfitted */\n",
       "  background-color: var(--sklearn-color-unfitted-level-0);\n",
       "}\n",
       "\n",
       "#sk-container-id-2 div.sk-toggleable__content.fitted pre {\n",
       "  /* unfitted */\n",
       "  background-color: var(--sklearn-color-fitted-level-0);\n",
       "}\n",
       "\n",
       "#sk-container-id-2 input.sk-toggleable__control:checked~div.sk-toggleable__content {\n",
       "  /* Expand drop-down */\n",
       "  display: block;\n",
       "  width: 100%;\n",
       "  overflow: visible;\n",
       "}\n",
       "\n",
       "#sk-container-id-2 input.sk-toggleable__control:checked~label.sk-toggleable__label-arrow:before {\n",
       "  content: \"▾\";\n",
       "}\n",
       "\n",
       "/* Pipeline/ColumnTransformer-specific style */\n",
       "\n",
       "#sk-container-id-2 div.sk-label input.sk-toggleable__control:checked~label.sk-toggleable__label {\n",
       "  color: var(--sklearn-color-text);\n",
       "  background-color: var(--sklearn-color-unfitted-level-2);\n",
       "}\n",
       "\n",
       "#sk-container-id-2 div.sk-label.fitted input.sk-toggleable__control:checked~label.sk-toggleable__label {\n",
       "  background-color: var(--sklearn-color-fitted-level-2);\n",
       "}\n",
       "\n",
       "/* Estimator-specific style */\n",
       "\n",
       "/* Colorize estimator box */\n",
       "#sk-container-id-2 div.sk-estimator input.sk-toggleable__control:checked~label.sk-toggleable__label {\n",
       "  /* unfitted */\n",
       "  background-color: var(--sklearn-color-unfitted-level-2);\n",
       "}\n",
       "\n",
       "#sk-container-id-2 div.sk-estimator.fitted input.sk-toggleable__control:checked~label.sk-toggleable__label {\n",
       "  /* fitted */\n",
       "  background-color: var(--sklearn-color-fitted-level-2);\n",
       "}\n",
       "\n",
       "#sk-container-id-2 div.sk-label label.sk-toggleable__label,\n",
       "#sk-container-id-2 div.sk-label label {\n",
       "  /* The background is the default theme color */\n",
       "  color: var(--sklearn-color-text-on-default-background);\n",
       "}\n",
       "\n",
       "/* On hover, darken the color of the background */\n",
       "#sk-container-id-2 div.sk-label:hover label.sk-toggleable__label {\n",
       "  color: var(--sklearn-color-text);\n",
       "  background-color: var(--sklearn-color-unfitted-level-2);\n",
       "}\n",
       "\n",
       "/* Label box, darken color on hover, fitted */\n",
       "#sk-container-id-2 div.sk-label.fitted:hover label.sk-toggleable__label.fitted {\n",
       "  color: var(--sklearn-color-text);\n",
       "  background-color: var(--sklearn-color-fitted-level-2);\n",
       "}\n",
       "\n",
       "/* Estimator label */\n",
       "\n",
       "#sk-container-id-2 div.sk-label label {\n",
       "  font-family: monospace;\n",
       "  font-weight: bold;\n",
       "  display: inline-block;\n",
       "  line-height: 1.2em;\n",
       "}\n",
       "\n",
       "#sk-container-id-2 div.sk-label-container {\n",
       "  text-align: center;\n",
       "}\n",
       "\n",
       "/* Estimator-specific */\n",
       "#sk-container-id-2 div.sk-estimator {\n",
       "  font-family: monospace;\n",
       "  border: 1px dotted var(--sklearn-color-border-box);\n",
       "  border-radius: 0.25em;\n",
       "  box-sizing: border-box;\n",
       "  margin-bottom: 0.5em;\n",
       "  /* unfitted */\n",
       "  background-color: var(--sklearn-color-unfitted-level-0);\n",
       "}\n",
       "\n",
       "#sk-container-id-2 div.sk-estimator.fitted {\n",
       "  /* fitted */\n",
       "  background-color: var(--sklearn-color-fitted-level-0);\n",
       "}\n",
       "\n",
       "/* on hover */\n",
       "#sk-container-id-2 div.sk-estimator:hover {\n",
       "  /* unfitted */\n",
       "  background-color: var(--sklearn-color-unfitted-level-2);\n",
       "}\n",
       "\n",
       "#sk-container-id-2 div.sk-estimator.fitted:hover {\n",
       "  /* fitted */\n",
       "  background-color: var(--sklearn-color-fitted-level-2);\n",
       "}\n",
       "\n",
       "/* Specification for estimator info (e.g. \"i\" and \"?\") */\n",
       "\n",
       "/* Common style for \"i\" and \"?\" */\n",
       "\n",
       ".sk-estimator-doc-link,\n",
       "a:link.sk-estimator-doc-link,\n",
       "a:visited.sk-estimator-doc-link {\n",
       "  float: right;\n",
       "  font-size: smaller;\n",
       "  line-height: 1em;\n",
       "  font-family: monospace;\n",
       "  background-color: var(--sklearn-color-background);\n",
       "  border-radius: 1em;\n",
       "  height: 1em;\n",
       "  width: 1em;\n",
       "  text-decoration: none !important;\n",
       "  margin-left: 0.5em;\n",
       "  text-align: center;\n",
       "  /* unfitted */\n",
       "  border: var(--sklearn-color-unfitted-level-1) 1pt solid;\n",
       "  color: var(--sklearn-color-unfitted-level-1);\n",
       "}\n",
       "\n",
       ".sk-estimator-doc-link.fitted,\n",
       "a:link.sk-estimator-doc-link.fitted,\n",
       "a:visited.sk-estimator-doc-link.fitted {\n",
       "  /* fitted */\n",
       "  border: var(--sklearn-color-fitted-level-1) 1pt solid;\n",
       "  color: var(--sklearn-color-fitted-level-1);\n",
       "}\n",
       "\n",
       "/* On hover */\n",
       "div.sk-estimator:hover .sk-estimator-doc-link:hover,\n",
       ".sk-estimator-doc-link:hover,\n",
       "div.sk-label-container:hover .sk-estimator-doc-link:hover,\n",
       ".sk-estimator-doc-link:hover {\n",
       "  /* unfitted */\n",
       "  background-color: var(--sklearn-color-unfitted-level-3);\n",
       "  color: var(--sklearn-color-background);\n",
       "  text-decoration: none;\n",
       "}\n",
       "\n",
       "div.sk-estimator.fitted:hover .sk-estimator-doc-link.fitted:hover,\n",
       ".sk-estimator-doc-link.fitted:hover,\n",
       "div.sk-label-container:hover .sk-estimator-doc-link.fitted:hover,\n",
       ".sk-estimator-doc-link.fitted:hover {\n",
       "  /* fitted */\n",
       "  background-color: var(--sklearn-color-fitted-level-3);\n",
       "  color: var(--sklearn-color-background);\n",
       "  text-decoration: none;\n",
       "}\n",
       "\n",
       "/* Span, style for the box shown on hovering the info icon */\n",
       ".sk-estimator-doc-link span {\n",
       "  display: none;\n",
       "  z-index: 9999;\n",
       "  position: relative;\n",
       "  font-weight: normal;\n",
       "  right: .2ex;\n",
       "  padding: .5ex;\n",
       "  margin: .5ex;\n",
       "  width: min-content;\n",
       "  min-width: 20ex;\n",
       "  max-width: 50ex;\n",
       "  color: var(--sklearn-color-text);\n",
       "  box-shadow: 2pt 2pt 4pt #999;\n",
       "  /* unfitted */\n",
       "  background: var(--sklearn-color-unfitted-level-0);\n",
       "  border: .5pt solid var(--sklearn-color-unfitted-level-3);\n",
       "}\n",
       "\n",
       ".sk-estimator-doc-link.fitted span {\n",
       "  /* fitted */\n",
       "  background: var(--sklearn-color-fitted-level-0);\n",
       "  border: var(--sklearn-color-fitted-level-3);\n",
       "}\n",
       "\n",
       ".sk-estimator-doc-link:hover span {\n",
       "  display: block;\n",
       "}\n",
       "\n",
       "/* \"?\"-specific style due to the `<a>` HTML tag */\n",
       "\n",
       "#sk-container-id-2 a.estimator_doc_link {\n",
       "  float: right;\n",
       "  font-size: 1rem;\n",
       "  line-height: 1em;\n",
       "  font-family: monospace;\n",
       "  background-color: var(--sklearn-color-background);\n",
       "  border-radius: 1rem;\n",
       "  height: 1rem;\n",
       "  width: 1rem;\n",
       "  text-decoration: none;\n",
       "  /* unfitted */\n",
       "  color: var(--sklearn-color-unfitted-level-1);\n",
       "  border: var(--sklearn-color-unfitted-level-1) 1pt solid;\n",
       "}\n",
       "\n",
       "#sk-container-id-2 a.estimator_doc_link.fitted {\n",
       "  /* fitted */\n",
       "  border: var(--sklearn-color-fitted-level-1) 1pt solid;\n",
       "  color: var(--sklearn-color-fitted-level-1);\n",
       "}\n",
       "\n",
       "/* On hover */\n",
       "#sk-container-id-2 a.estimator_doc_link:hover {\n",
       "  /* unfitted */\n",
       "  background-color: var(--sklearn-color-unfitted-level-3);\n",
       "  color: var(--sklearn-color-background);\n",
       "  text-decoration: none;\n",
       "}\n",
       "\n",
       "#sk-container-id-2 a.estimator_doc_link.fitted:hover {\n",
       "  /* fitted */\n",
       "  background-color: var(--sklearn-color-fitted-level-3);\n",
       "}\n",
       "\n",
       ".estimator-table summary {\n",
       "    padding: .5rem;\n",
       "    font-family: monospace;\n",
       "    cursor: pointer;\n",
       "}\n",
       "\n",
       ".estimator-table details[open] {\n",
       "    padding-left: 0.1rem;\n",
       "    padding-right: 0.1rem;\n",
       "    padding-bottom: 0.3rem;\n",
       "}\n",
       "\n",
       ".estimator-table .parameters-table {\n",
       "    margin-left: auto !important;\n",
       "    margin-right: auto !important;\n",
       "}\n",
       "\n",
       ".estimator-table .parameters-table tr:nth-child(odd) {\n",
       "    background-color: #fff;\n",
       "}\n",
       "\n",
       ".estimator-table .parameters-table tr:nth-child(even) {\n",
       "    background-color: #f6f6f6;\n",
       "}\n",
       "\n",
       ".estimator-table .parameters-table tr:hover {\n",
       "    background-color: #e0e0e0;\n",
       "}\n",
       "\n",
       ".estimator-table table td {\n",
       "    border: 1px solid rgba(106, 105, 104, 0.232);\n",
       "}\n",
       "\n",
       ".user-set td {\n",
       "    color:rgb(255, 94, 0);\n",
       "    text-align: left;\n",
       "}\n",
       "\n",
       ".user-set td.value pre {\n",
       "    color:rgb(255, 94, 0) !important;\n",
       "    background-color: transparent !important;\n",
       "}\n",
       "\n",
       ".default td {\n",
       "    color: black;\n",
       "    text-align: left;\n",
       "}\n",
       "\n",
       ".user-set td i,\n",
       ".default td i {\n",
       "    color: black;\n",
       "}\n",
       "\n",
       ".copy-paste-icon {\n",
       "    background-image: url(data:image/svg+xml;base64,PHN2ZyB4bWxucz0iaHR0cDovL3d3dy53My5vcmcvMjAwMC9zdmciIHZpZXdCb3g9IjAgMCA0NDggNTEyIj48IS0tIUZvbnQgQXdlc29tZSBGcmVlIDYuNy4yIGJ5IEBmb250YXdlc29tZSAtIGh0dHBzOi8vZm9udGF3ZXNvbWUuY29tIExpY2Vuc2UgLSBodHRwczovL2ZvbnRhd2Vzb21lLmNvbS9saWNlbnNlL2ZyZWUgQ29weXJpZ2h0IDIwMjUgRm9udGljb25zLCBJbmMuLS0+PHBhdGggZD0iTTIwOCAwTDMzMi4xIDBjMTIuNyAwIDI0LjkgNS4xIDMzLjkgMTQuMWw2Ny45IDY3LjljOSA5IDE0LjEgMjEuMiAxNC4xIDMzLjlMNDQ4IDMzNmMwIDI2LjUtMjEuNSA0OC00OCA0OGwtMTkyIDBjLTI2LjUgMC00OC0yMS41LTQ4LTQ4bDAtMjg4YzAtMjYuNSAyMS41LTQ4IDQ4LTQ4ek00OCAxMjhsODAgMCAwIDY0LTY0IDAgMCAyNTYgMTkyIDAgMC0zMiA2NCAwIDAgNDhjMCAyNi41LTIxLjUgNDgtNDggNDhMNDggNTEyYy0yNi41IDAtNDgtMjEuNS00OC00OEwwIDE3NmMwLTI2LjUgMjEuNS00OCA0OC00OHoiLz48L3N2Zz4=);\n",
       "    background-repeat: no-repeat;\n",
       "    background-size: 14px 14px;\n",
       "    background-position: 0;\n",
       "    display: inline-block;\n",
       "    width: 14px;\n",
       "    height: 14px;\n",
       "    cursor: pointer;\n",
       "}\n",
       "</style><body><div id=\"sk-container-id-2\" class=\"sk-top-container\"><div class=\"sk-text-repr-fallback\"><pre>LGBMRegressor(learning_rate=0.02, metric=&#x27;rmse&#x27;, num_interaction=5000,\n",
       "              verbose=1)</pre><b>In a Jupyter environment, please rerun this cell to show the HTML representation or trust the notebook. <br />On GitHub, the HTML representation is unable to render, please try loading this page with nbviewer.org.</b></div><div class=\"sk-container\" hidden><div class=\"sk-item\"><div class=\"sk-estimator fitted sk-toggleable\"><input class=\"sk-toggleable__control sk-hidden--visually\" id=\"sk-estimator-id-2\" type=\"checkbox\" checked><label for=\"sk-estimator-id-2\" class=\"sk-toggleable__label fitted sk-toggleable__label-arrow\"><div><div>LGBMRegressor</div></div><div><span class=\"sk-estimator-doc-link fitted\">i<span>Fitted</span></span></div></label><div class=\"sk-toggleable__content fitted\" data-param-prefix=\"\">\n",
       "        <div class=\"estimator-table\">\n",
       "            <details>\n",
       "                <summary>Parameters</summary>\n",
       "                <table class=\"parameters-table\">\n",
       "                  <tbody>\n",
       "                    \n",
       "        <tr class=\"default\">\n",
       "            <td><i class=\"copy-paste-icon\"\n",
       "                 onclick=\"copyToClipboard('boosting_type',\n",
       "                          this.parentElement.nextElementSibling)\"\n",
       "            ></i></td>\n",
       "            <td class=\"param\">boosting_type&nbsp;</td>\n",
       "            <td class=\"value\">&#x27;gbdt&#x27;</td>\n",
       "        </tr>\n",
       "    \n",
       "\n",
       "        <tr class=\"default\">\n",
       "            <td><i class=\"copy-paste-icon\"\n",
       "                 onclick=\"copyToClipboard('num_leaves',\n",
       "                          this.parentElement.nextElementSibling)\"\n",
       "            ></i></td>\n",
       "            <td class=\"param\">num_leaves&nbsp;</td>\n",
       "            <td class=\"value\">31</td>\n",
       "        </tr>\n",
       "    \n",
       "\n",
       "        <tr class=\"default\">\n",
       "            <td><i class=\"copy-paste-icon\"\n",
       "                 onclick=\"copyToClipboard('max_depth',\n",
       "                          this.parentElement.nextElementSibling)\"\n",
       "            ></i></td>\n",
       "            <td class=\"param\">max_depth&nbsp;</td>\n",
       "            <td class=\"value\">-1</td>\n",
       "        </tr>\n",
       "    \n",
       "\n",
       "        <tr class=\"user-set\">\n",
       "            <td><i class=\"copy-paste-icon\"\n",
       "                 onclick=\"copyToClipboard('learning_rate',\n",
       "                          this.parentElement.nextElementSibling)\"\n",
       "            ></i></td>\n",
       "            <td class=\"param\">learning_rate&nbsp;</td>\n",
       "            <td class=\"value\">0.02</td>\n",
       "        </tr>\n",
       "    \n",
       "\n",
       "        <tr class=\"default\">\n",
       "            <td><i class=\"copy-paste-icon\"\n",
       "                 onclick=\"copyToClipboard('n_estimators',\n",
       "                          this.parentElement.nextElementSibling)\"\n",
       "            ></i></td>\n",
       "            <td class=\"param\">n_estimators&nbsp;</td>\n",
       "            <td class=\"value\">100</td>\n",
       "        </tr>\n",
       "    \n",
       "\n",
       "        <tr class=\"default\">\n",
       "            <td><i class=\"copy-paste-icon\"\n",
       "                 onclick=\"copyToClipboard('subsample_for_bin',\n",
       "                          this.parentElement.nextElementSibling)\"\n",
       "            ></i></td>\n",
       "            <td class=\"param\">subsample_for_bin&nbsp;</td>\n",
       "            <td class=\"value\">200000</td>\n",
       "        </tr>\n",
       "    \n",
       "\n",
       "        <tr class=\"default\">\n",
       "            <td><i class=\"copy-paste-icon\"\n",
       "                 onclick=\"copyToClipboard('objective',\n",
       "                          this.parentElement.nextElementSibling)\"\n",
       "            ></i></td>\n",
       "            <td class=\"param\">objective&nbsp;</td>\n",
       "            <td class=\"value\">None</td>\n",
       "        </tr>\n",
       "    \n",
       "\n",
       "        <tr class=\"default\">\n",
       "            <td><i class=\"copy-paste-icon\"\n",
       "                 onclick=\"copyToClipboard('class_weight',\n",
       "                          this.parentElement.nextElementSibling)\"\n",
       "            ></i></td>\n",
       "            <td class=\"param\">class_weight&nbsp;</td>\n",
       "            <td class=\"value\">None</td>\n",
       "        </tr>\n",
       "    \n",
       "\n",
       "        <tr class=\"default\">\n",
       "            <td><i class=\"copy-paste-icon\"\n",
       "                 onclick=\"copyToClipboard('min_split_gain',\n",
       "                          this.parentElement.nextElementSibling)\"\n",
       "            ></i></td>\n",
       "            <td class=\"param\">min_split_gain&nbsp;</td>\n",
       "            <td class=\"value\">0.0</td>\n",
       "        </tr>\n",
       "    \n",
       "\n",
       "        <tr class=\"default\">\n",
       "            <td><i class=\"copy-paste-icon\"\n",
       "                 onclick=\"copyToClipboard('min_child_weight',\n",
       "                          this.parentElement.nextElementSibling)\"\n",
       "            ></i></td>\n",
       "            <td class=\"param\">min_child_weight&nbsp;</td>\n",
       "            <td class=\"value\">0.001</td>\n",
       "        </tr>\n",
       "    \n",
       "\n",
       "        <tr class=\"default\">\n",
       "            <td><i class=\"copy-paste-icon\"\n",
       "                 onclick=\"copyToClipboard('min_child_samples',\n",
       "                          this.parentElement.nextElementSibling)\"\n",
       "            ></i></td>\n",
       "            <td class=\"param\">min_child_samples&nbsp;</td>\n",
       "            <td class=\"value\">20</td>\n",
       "        </tr>\n",
       "    \n",
       "\n",
       "        <tr class=\"default\">\n",
       "            <td><i class=\"copy-paste-icon\"\n",
       "                 onclick=\"copyToClipboard('subsample',\n",
       "                          this.parentElement.nextElementSibling)\"\n",
       "            ></i></td>\n",
       "            <td class=\"param\">subsample&nbsp;</td>\n",
       "            <td class=\"value\">1.0</td>\n",
       "        </tr>\n",
       "    \n",
       "\n",
       "        <tr class=\"default\">\n",
       "            <td><i class=\"copy-paste-icon\"\n",
       "                 onclick=\"copyToClipboard('subsample_freq',\n",
       "                          this.parentElement.nextElementSibling)\"\n",
       "            ></i></td>\n",
       "            <td class=\"param\">subsample_freq&nbsp;</td>\n",
       "            <td class=\"value\">0</td>\n",
       "        </tr>\n",
       "    \n",
       "\n",
       "        <tr class=\"default\">\n",
       "            <td><i class=\"copy-paste-icon\"\n",
       "                 onclick=\"copyToClipboard('colsample_bytree',\n",
       "                          this.parentElement.nextElementSibling)\"\n",
       "            ></i></td>\n",
       "            <td class=\"param\">colsample_bytree&nbsp;</td>\n",
       "            <td class=\"value\">1.0</td>\n",
       "        </tr>\n",
       "    \n",
       "\n",
       "        <tr class=\"default\">\n",
       "            <td><i class=\"copy-paste-icon\"\n",
       "                 onclick=\"copyToClipboard('reg_alpha',\n",
       "                          this.parentElement.nextElementSibling)\"\n",
       "            ></i></td>\n",
       "            <td class=\"param\">reg_alpha&nbsp;</td>\n",
       "            <td class=\"value\">0.0</td>\n",
       "        </tr>\n",
       "    \n",
       "\n",
       "        <tr class=\"default\">\n",
       "            <td><i class=\"copy-paste-icon\"\n",
       "                 onclick=\"copyToClipboard('reg_lambda',\n",
       "                          this.parentElement.nextElementSibling)\"\n",
       "            ></i></td>\n",
       "            <td class=\"param\">reg_lambda&nbsp;</td>\n",
       "            <td class=\"value\">0.0</td>\n",
       "        </tr>\n",
       "    \n",
       "\n",
       "        <tr class=\"default\">\n",
       "            <td><i class=\"copy-paste-icon\"\n",
       "                 onclick=\"copyToClipboard('random_state',\n",
       "                          this.parentElement.nextElementSibling)\"\n",
       "            ></i></td>\n",
       "            <td class=\"param\">random_state&nbsp;</td>\n",
       "            <td class=\"value\">None</td>\n",
       "        </tr>\n",
       "    \n",
       "\n",
       "        <tr class=\"default\">\n",
       "            <td><i class=\"copy-paste-icon\"\n",
       "                 onclick=\"copyToClipboard('n_jobs',\n",
       "                          this.parentElement.nextElementSibling)\"\n",
       "            ></i></td>\n",
       "            <td class=\"param\">n_jobs&nbsp;</td>\n",
       "            <td class=\"value\">None</td>\n",
       "        </tr>\n",
       "    \n",
       "\n",
       "        <tr class=\"default\">\n",
       "            <td><i class=\"copy-paste-icon\"\n",
       "                 onclick=\"copyToClipboard('importance_type',\n",
       "                          this.parentElement.nextElementSibling)\"\n",
       "            ></i></td>\n",
       "            <td class=\"param\">importance_type&nbsp;</td>\n",
       "            <td class=\"value\">&#x27;split&#x27;</td>\n",
       "        </tr>\n",
       "    \n",
       "\n",
       "        <tr class=\"user-set\">\n",
       "            <td><i class=\"copy-paste-icon\"\n",
       "                 onclick=\"copyToClipboard('num_interaction',\n",
       "                          this.parentElement.nextElementSibling)\"\n",
       "            ></i></td>\n",
       "            <td class=\"param\">num_interaction&nbsp;</td>\n",
       "            <td class=\"value\">5000</td>\n",
       "        </tr>\n",
       "    \n",
       "\n",
       "        <tr class=\"user-set\">\n",
       "            <td><i class=\"copy-paste-icon\"\n",
       "                 onclick=\"copyToClipboard('verbose',\n",
       "                          this.parentElement.nextElementSibling)\"\n",
       "            ></i></td>\n",
       "            <td class=\"param\">verbose&nbsp;</td>\n",
       "            <td class=\"value\">1</td>\n",
       "        </tr>\n",
       "    \n",
       "\n",
       "        <tr class=\"user-set\">\n",
       "            <td><i class=\"copy-paste-icon\"\n",
       "                 onclick=\"copyToClipboard('metric',\n",
       "                          this.parentElement.nextElementSibling)\"\n",
       "            ></i></td>\n",
       "            <td class=\"param\">metric&nbsp;</td>\n",
       "            <td class=\"value\">&#x27;rmse&#x27;</td>\n",
       "        </tr>\n",
       "    \n",
       "                  </tbody>\n",
       "                </table>\n",
       "            </details>\n",
       "        </div>\n",
       "    </div></div></div></div></div><script>function copyToClipboard(text, element) {\n",
       "    // Get the parameter prefix from the closest toggleable content\n",
       "    const toggleableContent = element.closest('.sk-toggleable__content');\n",
       "    const paramPrefix = toggleableContent ? toggleableContent.dataset.paramPrefix : '';\n",
       "    const fullParamName = paramPrefix ? `${paramPrefix}${text}` : text;\n",
       "\n",
       "    const originalStyle = element.style;\n",
       "    const computedStyle = window.getComputedStyle(element);\n",
       "    const originalWidth = computedStyle.width;\n",
       "    const originalHTML = element.innerHTML.replace('Copied!', '');\n",
       "\n",
       "    navigator.clipboard.writeText(fullParamName)\n",
       "        .then(() => {\n",
       "            element.style.width = originalWidth;\n",
       "            element.style.color = 'green';\n",
       "            element.innerHTML = \"Copied!\";\n",
       "\n",
       "            setTimeout(() => {\n",
       "                element.innerHTML = originalHTML;\n",
       "                element.style = originalStyle;\n",
       "            }, 2000);\n",
       "        })\n",
       "        .catch(err => {\n",
       "            console.error('Failed to copy:', err);\n",
       "            element.style.color = 'red';\n",
       "            element.innerHTML = \"Failed!\";\n",
       "            setTimeout(() => {\n",
       "                element.innerHTML = originalHTML;\n",
       "                element.style = originalStyle;\n",
       "            }, 2000);\n",
       "        });\n",
       "    return false;\n",
       "}\n",
       "\n",
       "document.querySelectorAll('.fa-regular.fa-copy').forEach(function(element) {\n",
       "    const toggleableContent = element.closest('.sk-toggleable__content');\n",
       "    const paramPrefix = toggleableContent ? toggleableContent.dataset.paramPrefix : '';\n",
       "    const paramName = element.parentElement.nextElementSibling.textContent.trim();\n",
       "    const fullParamName = paramPrefix ? `${paramPrefix}${paramName}` : paramName;\n",
       "\n",
       "    element.setAttribute('title', fullParamName);\n",
       "});\n",
       "</script></body>"
      ],
      "text/plain": [
       "LGBMRegressor(learning_rate=0.02, metric='rmse', num_interaction=5000,\n",
       "              verbose=1)"
      ]
     },
     "execution_count": 24,
     "metadata": {},
     "output_type": "execute_result"
    }
   ],
   "source": [
    "model_lgb.fit(train_feactures,train_target, eval_set=(valid_feactures,valid_target))"
   ]
  },
  {
   "cell_type": "markdown",
   "metadata": {},
   "source": [
    "#### Entrenamiento  catboost "
   ]
  },
  {
   "cell_type": "code",
   "execution_count": 26,
   "metadata": {
    "trusted": false
   },
   "outputs": [],
   "source": [
    "from catboost import Pool, CatBoostRegressor"
   ]
  },
  {
   "cell_type": "code",
   "execution_count": 31,
   "metadata": {
    "trusted": false
   },
   "outputs": [
    {
     "name": "stdout",
     "output_type": "stream",
     "text": [
      "0:\tlearn: 35.6334239\ttest: 57.4112846\tbest: 57.4112846 (0)\ttotal: 147ms\tremaining: 12m 15s\n",
      "100:\tlearn: 21.7609268\ttest: 36.5486854\tbest: 36.5486854 (100)\ttotal: 458ms\tremaining: 22.2s\n",
      "200:\tlearn: 19.8317453\ttest: 33.4903629\tbest: 33.4903629 (200)\ttotal: 721ms\tremaining: 17.2s\n",
      "300:\tlearn: 18.5973185\ttest: 32.4508452\tbest: 32.4435837 (298)\ttotal: 976ms\tremaining: 15.2s\n",
      "400:\tlearn: 17.5466127\ttest: 31.9685748\tbest: 31.9613232 (398)\ttotal: 1.25s\tremaining: 14.3s\n",
      "500:\tlearn: 16.4863642\ttest: 31.6378848\tbest: 31.6249176 (485)\ttotal: 1.51s\tremaining: 13.6s\n",
      "600:\tlearn: 15.6088655\ttest: 31.3313712\tbest: 31.3312872 (599)\ttotal: 1.79s\tremaining: 13.1s\n",
      "700:\tlearn: 14.9139362\ttest: 31.2672808\tbest: 31.2572820 (688)\ttotal: 2.08s\tremaining: 12.7s\n",
      "800:\tlearn: 14.2793470\ttest: 31.1970945\tbest: 31.1970945 (800)\ttotal: 2.32s\tremaining: 12.2s\n",
      "900:\tlearn: 13.6702082\ttest: 31.1547144\tbest: 31.1442767 (894)\ttotal: 2.58s\tremaining: 11.8s\n",
      "1000:\tlearn: 13.0889727\ttest: 31.0852660\tbest: 31.0758939 (989)\ttotal: 2.88s\tremaining: 11.5s\n",
      "1100:\tlearn: 12.5430024\ttest: 31.0078264\tbest: 30.9988036 (1094)\ttotal: 3.14s\tremaining: 11.1s\n",
      "1200:\tlearn: 12.0210823\ttest: 30.9752442\tbest: 30.9752442 (1200)\ttotal: 3.43s\tremaining: 10.9s\n",
      "1300:\tlearn: 11.5426056\ttest: 30.9853430\tbest: 30.9378805 (1219)\ttotal: 3.71s\tremaining: 10.5s\n",
      "Stopped by overfitting detector  (100 iterations wait)\n",
      "\n",
      "bestTest = 30.93788047\n",
      "bestIteration = 1219\n",
      "\n",
      "Shrink model to first 1220 iterations.\n"
     ]
    },
    {
     "data": {
      "text/plain": [
       "<catboost.core.CatBoostRegressor at 0x26b16d14ad0>"
      ]
     },
     "execution_count": 31,
     "metadata": {},
     "output_type": "execute_result"
    }
   ],
   "source": [
    "model_catboost =  CatBoostRegressor(\n",
    "                    iterations=5000,\n",
    "                    learning_rate=0.03,\n",
    "                    depth=6,\n",
    "                    loss_function='RMSE',\n",
    "                    eval_metric='RMSE',\n",
    "                    early_stopping_rounds=100,\n",
    "                    verbose=100\n",
    "                    )\n",
    "\n",
    "\n",
    "#train the model\n",
    "model_catboost.fit(train_feactures,train_target,eval_set=(valid_feactures,valid_target))"
   ]
  },
  {
   "cell_type": "markdown",
   "metadata": {},
   "source": [
    "## Prueba"
   ]
  },
  {
   "cell_type": "code",
   "execution_count": null,
   "metadata": {
    "trusted": false
   },
   "outputs": [],
   "source": []
  },
  {
   "cell_type": "code",
   "execution_count": 27,
   "metadata": {
    "trusted": false
   },
   "outputs": [],
   "source": [
    "def predict(modelo,rmse):\n",
    "    \n",
    "    start_time = time.time()  # Iniciar temporizador\n",
    "    predict_train = modelo.predict(train_feactures_g)\n",
    "    predict_test = modelo.predict(test_feactures_g)\n",
    "    predict_valid = modelo.predict(valid_feactures_g)\n",
    "    end_time = time.time()\n",
    "    \n",
    "    execution_time = end_time - start_time\n",
    "    print('Entrenamiento prueba RMSE',rmse(train_target_g,predict_train))\n",
    "    print('Validacion prueba RMSE',rmse(valid_target_g ,predict_valid))\n",
    "    print('Test prueba RMSE',rmse(test_target_g,predict_test))\n",
    "    print('Tiempo de ejecucion', execution_time)\n",
    "    return "
   ]
  },
  {
   "cell_type": "code",
   "execution_count": 28,
   "metadata": {
    "trusted": false
   },
   "outputs": [
    {
     "name": "stdout",
     "output_type": "stream",
     "text": [
      "Entrenamiento prueba RMSE 24.59940597950347\n",
      "Validacion prueba RMSE 34.19955551311371\n",
      "Test prueba RMSE 46.2848009737359\n",
      "Tiempo de ejecucion 0.004742145538330078\n"
     ]
    }
   ],
   "source": [
    "predict(model_rl,rmse)"
   ]
  },
  {
   "cell_type": "code",
   "execution_count": 29,
   "metadata": {
    "trusted": false
   },
   "outputs": [
    {
     "name": "stdout",
     "output_type": "stream",
     "text": [
      "[LightGBM] [Warning] Unknown parameter: num_interaction\n",
      "[LightGBM] [Warning] Unknown parameter: num_interaction\n",
      "[LightGBM] [Warning] Unknown parameter: num_interaction\n",
      "Entrenamiento prueba RMSE 19.26516479877034\n",
      "Validacion prueba RMSE 34.664159524446845\n",
      "Test prueba RMSE 54.912844070964255\n",
      "Tiempo de ejecucion 0.00893092155456543\n"
     ]
    }
   ],
   "source": [
    "predict(model_lgb,rmse)"
   ]
  },
  {
   "cell_type": "code",
   "execution_count": 32,
   "metadata": {
    "trusted": false
   },
   "outputs": [
    {
     "name": "stdout",
     "output_type": "stream",
     "text": [
      "Entrenamiento prueba RMSE 11.926492592654816\n",
      "Validacion prueba RMSE 30.937880466121378\n",
      "Test prueba RMSE 47.75369110136289\n",
      "Tiempo de ejecucion 0.00961160659790039\n"
     ]
    }
   ],
   "source": [
    "predict(model_catboost,rmse)"
   ]
  },
  {
   "cell_type": "markdown",
   "metadata": {},
   "source": [
    "<div class=\"alert alert-block alert-info\">\n",
    "<b>Respuesta del estudiante.</b> <a class=\"tocSkip\"></a>\n",
    "Como se puede observar el mejor modelo es el lgb ya que cuenta con el menor error posible asi como un tiempo razonable tanto en la ejecucion del entrenamiento como enn la ejecucion de testeo en comparacion con los demas modelos. tomando como en cuneta el modelo de bosque aleatorio que este tiene un  tiempo elevado de ejecucion en el entrenam \n",
    "</div>"
   ]
  },
  {
   "cell_type": "markdown",
   "metadata": {},
   "source": [
    "<div class=\"alert alert-block alert-success\">\n",
    "<b>Comentario general (1ra Iteracion)</b> <a class=“tocSkip”></a>\n",
    "\n",
    "Te felicito por el trabajo realizado Rafael, aplicaste los procesos adecuados al dataset para darle características nuevas al modelo, con ese proceso aportas significativamente al desempeño del mismo y obtuviste una métrica que supera lo propuesto para este proyecto, continúa con este gran trabajo!\n",
    "</div>"
   ]
  },
  {
   "cell_type": "markdown",
   "metadata": {},
   "source": [
    "# Lista de revisión"
   ]
  },
  {
   "cell_type": "markdown",
   "metadata": {},
   "source": [
    "- [x]  \t\n",
    "Jupyter Notebook está abierto.\n",
    "- [ ]  El código no tiene errores\n",
    "- [ ]  Las celdas con el código han sido colocadas en el orden de ejecución.\n",
    "- [ ]  \t\n",
    "Los datos han sido descargados y preparados.\n",
    "- [ ]  Se ha realizado el paso 2: los datos han sido analizados\n",
    "- [ ]  Se entrenó el modelo y se seleccionaron los hiperparámetros\n",
    "- [ ]  Se han evaluado los modelos. Se expuso una conclusión\n",
    "- [ ] La *RECM* para el conjunto de prueba no es más de 48"
   ]
  }
 ],
 "metadata": {
  "ExecuteTimeLog": [
   {
    "duration": 2136,
    "start_time": "2025-02-14T01:06:15.235Z"
   },
   {
    "duration": 26,
    "start_time": "2025-02-14T01:07:11.495Z"
   },
   {
    "duration": 10,
    "start_time": "2025-02-14T01:07:36.495Z"
   },
   {
    "duration": 13,
    "start_time": "2025-02-14T01:08:12.296Z"
   },
   {
    "duration": 6,
    "start_time": "2025-02-14T01:08:36.784Z"
   },
   {
    "duration": 489,
    "start_time": "2025-02-14T01:20:49.824Z"
   },
   {
    "duration": 47,
    "start_time": "2025-02-14T01:22:53.052Z"
   },
   {
    "duration": 3,
    "start_time": "2025-02-14T01:37:04.617Z"
   },
   {
    "duration": 82,
    "start_time": "2025-02-14T01:37:13.127Z"
   },
   {
    "duration": 4,
    "start_time": "2025-02-14T01:38:42.189Z"
   },
   {
    "duration": 21,
    "start_time": "2025-02-14T02:37:06.140Z"
   },
   {
    "duration": 8,
    "start_time": "2025-02-14T02:37:06.595Z"
   },
   {
    "duration": 12,
    "start_time": "2025-02-14T02:37:09.515Z"
   },
   {
    "duration": 3,
    "start_time": "2025-02-14T02:37:11.344Z"
   },
   {
    "duration": 3,
    "start_time": "2025-02-14T02:37:16.760Z"
   },
   {
    "duration": 27,
    "start_time": "2025-02-14T02:37:17.702Z"
   },
   {
    "duration": 28,
    "start_time": "2025-02-14T02:37:21.292Z"
   },
   {
    "duration": 2,
    "start_time": "2025-02-14T02:37:23.277Z"
   },
   {
    "duration": 27,
    "start_time": "2025-02-14T02:37:24.026Z"
   },
   {
    "duration": 19,
    "start_time": "2025-02-14T02:38:45.373Z"
   },
   {
    "duration": 10,
    "start_time": "2025-02-14T02:38:46.700Z"
   },
   {
    "duration": 11,
    "start_time": "2025-02-14T02:38:48.548Z"
   },
   {
    "duration": 3,
    "start_time": "2025-02-14T02:38:50.756Z"
   },
   {
    "duration": 3,
    "start_time": "2025-02-14T02:38:51.396Z"
   },
   {
    "duration": 5,
    "start_time": "2025-02-14T02:38:52.122Z"
   },
   {
    "duration": 6,
    "start_time": "2025-02-14T02:39:21.519Z"
   },
   {
    "duration": 10,
    "start_time": "2025-02-14T02:39:41.335Z"
   },
   {
    "duration": 306,
    "start_time": "2025-02-14T02:42:24.995Z"
   },
   {
    "duration": 8,
    "start_time": "2025-02-14T02:43:57.567Z"
   },
   {
    "duration": 221,
    "start_time": "2025-02-14T03:07:43.211Z"
   },
   {
    "duration": 158,
    "start_time": "2025-02-14T03:09:05.343Z"
   },
   {
    "duration": 211,
    "start_time": "2025-02-14T03:09:20.027Z"
   },
   {
    "duration": 189,
    "start_time": "2025-02-14T03:09:34.739Z"
   },
   {
    "duration": 160,
    "start_time": "2025-02-14T03:09:46.071Z"
   },
   {
    "duration": 153,
    "start_time": "2025-02-14T03:09:55.457Z"
   },
   {
    "duration": 48,
    "start_time": "2025-02-14T03:14:28.778Z"
   },
   {
    "duration": 8,
    "start_time": "2025-02-14T03:15:04.999Z"
   },
   {
    "duration": 11,
    "start_time": "2025-02-14T03:15:17.386Z"
   },
   {
    "duration": 4,
    "start_time": "2025-02-14T03:21:59.409Z"
   },
   {
    "duration": 10,
    "start_time": "2025-02-14T03:22:34.287Z"
   },
   {
    "duration": 4,
    "start_time": "2025-02-14T03:22:38.045Z"
   },
   {
    "duration": 393,
    "start_time": "2025-02-14T04:31:36.139Z"
   },
   {
    "duration": 337,
    "start_time": "2025-02-14T04:31:52.055Z"
   },
   {
    "duration": 351,
    "start_time": "2025-02-14T04:32:26.477Z"
   },
   {
    "duration": 4,
    "start_time": "2025-02-14T04:34:07.366Z"
   },
   {
    "duration": 3,
    "start_time": "2025-02-14T04:53:49.575Z"
   },
   {
    "duration": 6,
    "start_time": "2025-02-14T04:54:38.803Z"
   },
   {
    "duration": 13,
    "start_time": "2025-02-14T04:54:43.184Z"
   },
   {
    "duration": 24,
    "start_time": "2025-02-14T04:55:02.068Z"
   },
   {
    "duration": 4,
    "start_time": "2025-02-14T04:55:15.145Z"
   },
   {
    "duration": 6,
    "start_time": "2025-02-14T04:55:15.805Z"
   },
   {
    "duration": 14,
    "start_time": "2025-02-14T04:56:03.596Z"
   },
   {
    "duration": 2543,
    "start_time": "2025-02-14T18:32:24.481Z"
   },
   {
    "duration": 39,
    "start_time": "2025-02-14T18:32:27.026Z"
   },
   {
    "duration": 9,
    "start_time": "2025-02-14T18:32:27.066Z"
   },
   {
    "duration": 8,
    "start_time": "2025-02-14T18:32:27.077Z"
   },
   {
    "duration": 243,
    "start_time": "2025-02-14T18:32:27.086Z"
   },
   {
    "duration": 0,
    "start_time": "2025-02-14T18:32:27.331Z"
   },
   {
    "duration": 0,
    "start_time": "2025-02-14T18:32:27.332Z"
   },
   {
    "duration": 0,
    "start_time": "2025-02-14T18:32:27.334Z"
   },
   {
    "duration": 0,
    "start_time": "2025-02-14T18:32:27.336Z"
   },
   {
    "duration": 0,
    "start_time": "2025-02-14T18:32:27.337Z"
   },
   {
    "duration": 1,
    "start_time": "2025-02-14T18:32:27.338Z"
   },
   {
    "duration": 0,
    "start_time": "2025-02-14T18:32:27.340Z"
   },
   {
    "duration": 2,
    "start_time": "2025-02-14T18:32:46.589Z"
   },
   {
    "duration": 21,
    "start_time": "2025-02-14T18:32:46.593Z"
   },
   {
    "duration": 7,
    "start_time": "2025-02-14T18:32:46.616Z"
   },
   {
    "duration": 5,
    "start_time": "2025-02-14T18:32:46.625Z"
   },
   {
    "duration": 13,
    "start_time": "2025-02-14T18:32:46.632Z"
   },
   {
    "duration": 0,
    "start_time": "2025-02-14T18:32:46.647Z"
   },
   {
    "duration": 0,
    "start_time": "2025-02-14T18:32:46.648Z"
   },
   {
    "duration": 0,
    "start_time": "2025-02-14T18:32:46.649Z"
   },
   {
    "duration": 0,
    "start_time": "2025-02-14T18:32:46.651Z"
   },
   {
    "duration": 0,
    "start_time": "2025-02-14T18:32:46.652Z"
   },
   {
    "duration": 0,
    "start_time": "2025-02-14T18:32:46.653Z"
   },
   {
    "duration": 0,
    "start_time": "2025-02-14T18:32:46.654Z"
   },
   {
    "duration": 2,
    "start_time": "2025-02-14T18:33:05.237Z"
   },
   {
    "duration": 4,
    "start_time": "2025-02-14T18:33:05.725Z"
   },
   {
    "duration": 12,
    "start_time": "2025-02-14T18:33:15.959Z"
   },
   {
    "duration": 11,
    "start_time": "2025-02-14T18:33:22.386Z"
   },
   {
    "duration": 10,
    "start_time": "2025-02-14T18:33:23.006Z"
   },
   {
    "duration": 348,
    "start_time": "2025-02-14T18:33:23.600Z"
   },
   {
    "duration": 477,
    "start_time": "2025-02-14T18:35:03.553Z"
   },
   {
    "duration": 5,
    "start_time": "2025-02-14T18:38:45.050Z"
   },
   {
    "duration": 11,
    "start_time": "2025-02-14T18:38:45.660Z"
   },
   {
    "duration": 531,
    "start_time": "2025-02-14T18:38:46.695Z"
   },
   {
    "duration": 14,
    "start_time": "2025-02-14T19:09:57.056Z"
   },
   {
    "duration": 3,
    "start_time": "2025-02-14T19:10:05.367Z"
   },
   {
    "duration": 19,
    "start_time": "2025-02-14T19:10:05.873Z"
   },
   {
    "duration": 5,
    "start_time": "2025-02-14T19:11:05.092Z"
   },
   {
    "duration": 10,
    "start_time": "2025-02-14T19:11:20.627Z"
   },
   {
    "duration": 13,
    "start_time": "2025-02-14T19:31:11.651Z"
   },
   {
    "duration": 136,
    "start_time": "2025-02-14T19:31:16.158Z"
   },
   {
    "duration": 6,
    "start_time": "2025-02-14T19:31:16.608Z"
   },
   {
    "duration": 3,
    "start_time": "2025-02-14T19:34:48.600Z"
   },
   {
    "duration": 2,
    "start_time": "2025-02-14T19:38:15.921Z"
   },
   {
    "duration": 3,
    "start_time": "2025-02-14T19:39:14.049Z"
   },
   {
    "duration": 24,
    "start_time": "2025-02-14T19:39:29.072Z"
   },
   {
    "duration": 3,
    "start_time": "2025-02-14T19:39:49.585Z"
   },
   {
    "duration": 3,
    "start_time": "2025-02-14T19:39:51.852Z"
   },
   {
    "duration": 3,
    "start_time": "2025-02-14T19:40:02.493Z"
   },
   {
    "duration": 3,
    "start_time": "2025-02-14T19:40:02.864Z"
   },
   {
    "duration": 4,
    "start_time": "2025-02-14T19:40:16.385Z"
   },
   {
    "duration": 5,
    "start_time": "2025-02-14T19:40:57.899Z"
   },
   {
    "duration": 3,
    "start_time": "2025-02-14T19:41:29.228Z"
   },
   {
    "duration": 4,
    "start_time": "2025-02-14T19:41:29.628Z"
   },
   {
    "duration": 3,
    "start_time": "2025-02-14T19:42:11.881Z"
   },
   {
    "duration": 5,
    "start_time": "2025-02-14T19:53:51.931Z"
   },
   {
    "duration": 15,
    "start_time": "2025-02-14T19:54:05.037Z"
   },
   {
    "duration": 5,
    "start_time": "2025-02-14T20:05:01.531Z"
   },
   {
    "duration": 4,
    "start_time": "2025-02-14T20:05:07.191Z"
   },
   {
    "duration": 7,
    "start_time": "2025-02-14T20:05:17.329Z"
   },
   {
    "duration": 4,
    "start_time": "2025-02-14T20:05:28.728Z"
   },
   {
    "duration": 3,
    "start_time": "2025-02-14T20:08:31.343Z"
   },
   {
    "duration": 2,
    "start_time": "2025-02-14T20:57:24.476Z"
   },
   {
    "duration": 2,
    "start_time": "2025-02-14T20:57:37.673Z"
   },
   {
    "duration": 16,
    "start_time": "2025-02-14T21:59:36.165Z"
   },
   {
    "duration": 2,
    "start_time": "2025-02-14T22:00:09.204Z"
   },
   {
    "duration": 15,
    "start_time": "2025-02-14T22:02:29.777Z"
   },
   {
    "duration": 3,
    "start_time": "2025-02-14T22:08:21.653Z"
   },
   {
    "duration": 5,
    "start_time": "2025-02-14T22:20:59.538Z"
   },
   {
    "duration": 3,
    "start_time": "2025-02-14T22:25:39.500Z"
   },
   {
    "duration": 3,
    "start_time": "2025-02-14T22:29:14.592Z"
   },
   {
    "duration": 29,
    "start_time": "2025-02-14T22:38:18.285Z"
   },
   {
    "duration": 2,
    "start_time": "2025-02-14T22:38:46.068Z"
   },
   {
    "duration": 2,
    "start_time": "2025-02-14T22:38:47.431Z"
   },
   {
    "duration": 2,
    "start_time": "2025-02-14T22:38:47.811Z"
   },
   {
    "duration": 7,
    "start_time": "2025-02-14T22:38:48.228Z"
   },
   {
    "duration": 30,
    "start_time": "2025-02-14T22:38:49.379Z"
   },
   {
    "duration": 3,
    "start_time": "2025-02-14T22:39:27.324Z"
   },
   {
    "duration": 3,
    "start_time": "2025-02-14T22:39:28.314Z"
   },
   {
    "duration": 3,
    "start_time": "2025-02-14T22:39:28.790Z"
   },
   {
    "duration": 7,
    "start_time": "2025-02-14T22:39:29.302Z"
   },
   {
    "duration": 7,
    "start_time": "2025-02-14T22:39:30.374Z"
   },
   {
    "duration": 4,
    "start_time": "2025-02-14T22:39:35.399Z"
   },
   {
    "duration": 23,
    "start_time": "2025-02-14T22:39:49.607Z"
   },
   {
    "duration": 3,
    "start_time": "2025-02-14T22:40:57.082Z"
   },
   {
    "duration": 4,
    "start_time": "2025-02-14T22:41:01.558Z"
   },
   {
    "duration": 8,
    "start_time": "2025-02-14T22:41:03.336Z"
   },
   {
    "duration": 25,
    "start_time": "2025-02-14T22:44:45.271Z"
   },
   {
    "duration": 56,
    "start_time": "2025-02-14T22:46:03.800Z"
   },
   {
    "duration": 22,
    "start_time": "2025-02-14T23:54:23.885Z"
   },
   {
    "duration": 3,
    "start_time": "2025-02-14T23:55:32.874Z"
   },
   {
    "duration": 3,
    "start_time": "2025-02-14T23:56:00.378Z"
   },
   {
    "duration": 5,
    "start_time": "2025-02-14T23:57:35.396Z"
   },
   {
    "duration": 3,
    "start_time": "2025-02-14T23:57:50.150Z"
   },
   {
    "duration": 5,
    "start_time": "2025-02-14T23:57:50.859Z"
   },
   {
    "duration": 2,
    "start_time": "2025-02-14T23:57:59.129Z"
   },
   {
    "duration": 3,
    "start_time": "2025-02-14T23:57:59.765Z"
   },
   {
    "duration": 4,
    "start_time": "2025-02-14T23:58:00.197Z"
   },
   {
    "duration": 349,
    "start_time": "2025-02-14T23:59:19.365Z"
   },
   {
    "duration": 25,
    "start_time": "2025-02-14T23:59:55.116Z"
   },
   {
    "duration": 15,
    "start_time": "2025-02-15T00:01:10.717Z"
   },
   {
    "duration": 321,
    "start_time": "2025-02-15T00:01:37.643Z"
   },
   {
    "duration": 1016,
    "start_time": "2025-02-15T00:02:21.606Z"
   },
   {
    "duration": 13,
    "start_time": "2025-02-15T00:03:10.861Z"
   },
   {
    "duration": 1692,
    "start_time": "2025-02-15T00:04:12.245Z"
   },
   {
    "duration": 13,
    "start_time": "2025-02-15T00:04:20.609Z"
   },
   {
    "duration": 2254,
    "start_time": "2025-02-15T00:04:51.100Z"
   },
   {
    "duration": 16,
    "start_time": "2025-02-15T00:04:58.789Z"
   },
   {
    "duration": 2833,
    "start_time": "2025-02-15T00:05:13.716Z"
   },
   {
    "duration": 19,
    "start_time": "2025-02-15T00:05:24.405Z"
   },
   {
    "duration": 4220,
    "start_time": "2025-02-15T00:05:39.375Z"
   },
   {
    "duration": 22,
    "start_time": "2025-02-15T00:05:43.598Z"
   },
   {
    "duration": 3264,
    "start_time": "2025-02-15T00:05:58.665Z"
   },
   {
    "duration": 3375,
    "start_time": "2025-02-15T00:06:13.645Z"
   },
   {
    "duration": 21,
    "start_time": "2025-02-15T00:06:18.461Z"
   },
   {
    "duration": 2281,
    "start_time": "2025-02-15T00:06:32.075Z"
   },
   {
    "duration": 16,
    "start_time": "2025-02-15T00:06:35.656Z"
   },
   {
    "duration": 2,
    "start_time": "2025-02-15T00:07:26.994Z"
   },
   {
    "duration": 248,
    "start_time": "2025-02-15T00:07:28.365Z"
   },
   {
    "duration": 22,
    "start_time": "2025-02-15T00:07:37.341Z"
   },
   {
    "duration": 2257,
    "start_time": "2025-02-15T00:08:18.335Z"
   },
   {
    "duration": 17,
    "start_time": "2025-02-15T00:08:23.961Z"
   },
   {
    "duration": 1450,
    "start_time": "2025-02-15T00:08:42.016Z"
   },
   {
    "duration": 16,
    "start_time": "2025-02-15T00:08:45.584Z"
   },
   {
    "duration": 1453,
    "start_time": "2025-02-15T00:08:54.144Z"
   },
   {
    "duration": 14,
    "start_time": "2025-02-15T00:08:57.113Z"
   },
   {
    "duration": 18,
    "start_time": "2025-02-15T00:09:36.598Z"
   },
   {
    "duration": 12,
    "start_time": "2025-02-15T00:10:16.293Z"
   },
   {
    "duration": 3,
    "start_time": "2025-02-15T00:10:19.984Z"
   },
   {
    "duration": 3,
    "start_time": "2025-02-15T00:10:20.420Z"
   },
   {
    "duration": 5,
    "start_time": "2025-02-15T00:10:20.985Z"
   },
   {
    "duration": 6,
    "start_time": "2025-02-15T00:10:21.819Z"
   },
   {
    "duration": 3,
    "start_time": "2025-02-15T00:10:22.695Z"
   },
   {
    "duration": 5,
    "start_time": "2025-02-15T00:10:23.111Z"
   },
   {
    "duration": 2,
    "start_time": "2025-02-15T00:10:24.280Z"
   },
   {
    "duration": 2,
    "start_time": "2025-02-15T00:10:24.944Z"
   },
   {
    "duration": 9,
    "start_time": "2025-02-15T00:10:25.584Z"
   },
   {
    "duration": 2,
    "start_time": "2025-02-15T00:10:26.998Z"
   },
   {
    "duration": 3,
    "start_time": "2025-02-15T00:10:27.420Z"
   },
   {
    "duration": 262,
    "start_time": "2025-02-15T00:10:28.361Z"
   },
   {
    "duration": 2,
    "start_time": "2025-02-15T00:10:31.148Z"
   },
   {
    "duration": 1466,
    "start_time": "2025-02-15T00:10:31.999Z"
   },
   {
    "duration": 4,
    "start_time": "2025-02-15T00:10:35.550Z"
   },
   {
    "duration": 9,
    "start_time": "2025-02-15T00:10:36.111Z"
   },
   {
    "duration": 13,
    "start_time": "2025-02-15T00:10:38.658Z"
   },
   {
    "duration": 14,
    "start_time": "2025-02-15T00:10:42.728Z"
   },
   {
    "duration": 6,
    "start_time": "2025-02-15T00:13:49.734Z"
   },
   {
    "duration": 1408,
    "start_time": "2025-02-15T00:13:57.625Z"
   },
   {
    "duration": 15,
    "start_time": "2025-02-15T00:14:05.021Z"
   },
   {
    "duration": 1328,
    "start_time": "2025-02-15T00:14:30.882Z"
   },
   {
    "duration": 13,
    "start_time": "2025-02-15T00:14:35.856Z"
   },
   {
    "duration": 1760,
    "start_time": "2025-02-15T00:15:41.381Z"
   },
   {
    "duration": 12,
    "start_time": "2025-02-15T00:15:45.522Z"
   },
   {
    "duration": 2273,
    "start_time": "2025-02-15T00:15:55.243Z"
   },
   {
    "duration": 13,
    "start_time": "2025-02-15T00:15:59.425Z"
   },
   {
    "duration": 5436,
    "start_time": "2025-02-15T00:16:12.334Z"
   },
   {
    "duration": 10,
    "start_time": "2025-02-15T00:16:17.773Z"
   },
   {
    "duration": 11,
    "start_time": "2025-02-15T00:16:20.643Z"
   },
   {
    "duration": 3842,
    "start_time": "2025-02-15T00:16:27.494Z"
   },
   {
    "duration": 5735,
    "start_time": "2025-02-15T00:17:02.856Z"
   },
   {
    "duration": 5894,
    "start_time": "2025-02-15T00:17:24.597Z"
   },
   {
    "duration": 11,
    "start_time": "2025-02-15T00:17:38.126Z"
   },
   {
    "duration": 2004,
    "start_time": "2025-02-15T00:17:53.019Z"
   },
   {
    "duration": 11,
    "start_time": "2025-02-15T00:18:03.491Z"
   },
   {
    "duration": 16,
    "start_time": "2025-02-15T00:18:58.778Z"
   },
   {
    "duration": 11,
    "start_time": "2025-02-15T00:19:16.931Z"
   },
   {
    "duration": 2,
    "start_time": "2025-02-15T00:19:20.162Z"
   },
   {
    "duration": 4,
    "start_time": "2025-02-15T00:19:20.584Z"
   },
   {
    "duration": 4,
    "start_time": "2025-02-15T00:19:20.936Z"
   },
   {
    "duration": 6,
    "start_time": "2025-02-15T00:19:21.435Z"
   },
   {
    "duration": 2,
    "start_time": "2025-02-15T00:19:22.027Z"
   },
   {
    "duration": 3,
    "start_time": "2025-02-15T00:19:22.447Z"
   },
   {
    "duration": 3,
    "start_time": "2025-02-15T00:19:23.431Z"
   },
   {
    "duration": 2,
    "start_time": "2025-02-15T00:19:23.901Z"
   },
   {
    "duration": 8,
    "start_time": "2025-02-15T00:19:24.508Z"
   },
   {
    "duration": 3,
    "start_time": "2025-02-15T00:19:25.862Z"
   },
   {
    "duration": 2,
    "start_time": "2025-02-15T00:19:26.425Z"
   },
   {
    "duration": 330,
    "start_time": "2025-02-15T00:19:27.087Z"
   },
   {
    "duration": 3,
    "start_time": "2025-02-15T00:19:31.100Z"
   },
   {
    "duration": 1909,
    "start_time": "2025-02-15T00:19:32.163Z"
   },
   {
    "duration": 4,
    "start_time": "2025-02-15T00:19:40.433Z"
   },
   {
    "duration": 8,
    "start_time": "2025-02-15T00:19:41.243Z"
   },
   {
    "duration": 20,
    "start_time": "2025-02-15T00:19:42.303Z"
   },
   {
    "duration": 13,
    "start_time": "2025-02-15T00:19:45.416Z"
   },
   {
    "duration": 2734,
    "start_time": "2025-02-15T00:21:13.829Z"
   },
   {
    "duration": 10,
    "start_time": "2025-02-15T00:21:24.228Z"
   },
   {
    "duration": 15,
    "start_time": "2025-02-15T00:21:54.339Z"
   },
   {
    "duration": 11,
    "start_time": "2025-02-15T00:21:56.666Z"
   },
   {
    "duration": 2,
    "start_time": "2025-02-15T00:21:57.839Z"
   },
   {
    "duration": 5,
    "start_time": "2025-02-15T00:21:58.219Z"
   },
   {
    "duration": 4,
    "start_time": "2025-02-15T00:21:58.564Z"
   },
   {
    "duration": 6,
    "start_time": "2025-02-15T00:21:58.833Z"
   },
   {
    "duration": 2,
    "start_time": "2025-02-15T00:21:59.344Z"
   },
   {
    "duration": 3,
    "start_time": "2025-02-15T00:21:59.788Z"
   },
   {
    "duration": 2,
    "start_time": "2025-02-15T00:22:00.642Z"
   },
   {
    "duration": 2,
    "start_time": "2025-02-15T00:22:01.050Z"
   },
   {
    "duration": 8,
    "start_time": "2025-02-15T00:22:01.703Z"
   },
   {
    "duration": 3,
    "start_time": "2025-02-15T00:22:02.667Z"
   },
   {
    "duration": 2,
    "start_time": "2025-02-15T00:22:03.031Z"
   },
   {
    "duration": 153,
    "start_time": "2025-02-15T00:22:03.680Z"
   },
   {
    "duration": 2,
    "start_time": "2025-02-15T00:22:06.249Z"
   },
   {
    "duration": 2743,
    "start_time": "2025-02-15T00:22:06.925Z"
   },
   {
    "duration": 4,
    "start_time": "2025-02-15T00:22:19.808Z"
   },
   {
    "duration": 8,
    "start_time": "2025-02-15T00:22:20.556Z"
   },
   {
    "duration": 20,
    "start_time": "2025-02-15T00:22:21.345Z"
   },
   {
    "duration": 11,
    "start_time": "2025-02-15T00:22:22.180Z"
   },
   {
    "duration": 18,
    "start_time": "2025-02-15T00:22:41.091Z"
   },
   {
    "duration": 11,
    "start_time": "2025-02-15T00:22:41.697Z"
   },
   {
    "duration": 2,
    "start_time": "2025-02-15T00:22:43.388Z"
   },
   {
    "duration": 4,
    "start_time": "2025-02-15T00:22:43.898Z"
   },
   {
    "duration": 3,
    "start_time": "2025-02-15T00:22:44.280Z"
   },
   {
    "duration": 6,
    "start_time": "2025-02-15T00:22:44.666Z"
   },
   {
    "duration": 2,
    "start_time": "2025-02-15T00:22:45.223Z"
   },
   {
    "duration": 3,
    "start_time": "2025-02-15T00:22:45.748Z"
   },
   {
    "duration": 2,
    "start_time": "2025-02-15T00:22:46.665Z"
   },
   {
    "duration": 2,
    "start_time": "2025-02-15T00:22:47.064Z"
   },
   {
    "duration": 7,
    "start_time": "2025-02-15T00:22:47.461Z"
   },
   {
    "duration": 2,
    "start_time": "2025-02-15T00:22:48.460Z"
   },
   {
    "duration": 3,
    "start_time": "2025-02-15T00:22:48.900Z"
   },
   {
    "duration": 319,
    "start_time": "2025-02-15T00:22:49.499Z"
   },
   {
    "duration": 2,
    "start_time": "2025-02-15T00:22:50.984Z"
   },
   {
    "duration": 3065,
    "start_time": "2025-02-15T00:22:51.678Z"
   },
   {
    "duration": 5,
    "start_time": "2025-02-15T00:22:58.503Z"
   },
   {
    "duration": 12,
    "start_time": "2025-02-15T00:22:59.260Z"
   },
   {
    "duration": 13,
    "start_time": "2025-02-15T00:23:00.625Z"
   },
   {
    "duration": 12,
    "start_time": "2025-02-15T00:23:02.404Z"
   },
   {
    "duration": 841,
    "start_time": "2025-02-15T00:23:41.323Z"
   },
   {
    "duration": 21,
    "start_time": "2025-02-15T00:23:42.167Z"
   },
   {
    "duration": 8,
    "start_time": "2025-02-15T00:23:42.190Z"
   },
   {
    "duration": 16,
    "start_time": "2025-02-15T00:23:42.200Z"
   },
   {
    "duration": 3,
    "start_time": "2025-02-15T00:23:42.218Z"
   },
   {
    "duration": 10,
    "start_time": "2025-02-15T00:23:42.222Z"
   },
   {
    "duration": 5,
    "start_time": "2025-02-15T00:23:42.234Z"
   },
   {
    "duration": 11,
    "start_time": "2025-02-15T00:23:42.240Z"
   },
   {
    "duration": 583,
    "start_time": "2025-02-15T00:23:42.253Z"
   },
   {
    "duration": 3,
    "start_time": "2025-02-15T00:23:42.838Z"
   },
   {
    "duration": 21,
    "start_time": "2025-02-15T00:23:42.843Z"
   },
   {
    "duration": 10,
    "start_time": "2025-02-15T00:23:42.865Z"
   },
   {
    "duration": 174,
    "start_time": "2025-02-15T00:23:42.877Z"
   },
   {
    "duration": 4,
    "start_time": "2025-02-15T00:23:43.054Z"
   },
   {
    "duration": 3,
    "start_time": "2025-02-15T00:23:43.060Z"
   },
   {
    "duration": 5,
    "start_time": "2025-02-15T00:23:43.065Z"
   },
   {
    "duration": 3,
    "start_time": "2025-02-15T00:23:43.072Z"
   },
   {
    "duration": 2,
    "start_time": "2025-02-15T00:23:43.078Z"
   },
   {
    "duration": 33,
    "start_time": "2025-02-15T00:23:43.081Z"
   },
   {
    "duration": 2,
    "start_time": "2025-02-15T00:23:43.116Z"
   },
   {
    "duration": 9,
    "start_time": "2025-02-15T00:23:43.120Z"
   },
   {
    "duration": 20,
    "start_time": "2025-02-15T00:23:43.131Z"
   },
   {
    "duration": 60,
    "start_time": "2025-02-15T00:23:43.152Z"
   },
   {
    "duration": 399,
    "start_time": "2025-02-15T00:23:43.214Z"
   },
   {
    "duration": 54,
    "start_time": "2025-02-15T00:23:43.615Z"
   },
   {
    "duration": 3015,
    "start_time": "2025-02-15T00:23:43.670Z"
   },
   {
    "duration": 3,
    "start_time": "2025-02-15T00:23:46.688Z"
   },
   {
    "duration": 8,
    "start_time": "2025-02-15T00:23:46.693Z"
   },
   {
    "duration": 114,
    "start_time": "2025-02-15T00:23:46.703Z"
   },
   {
    "duration": 10,
    "start_time": "2025-02-15T00:23:46.821Z"
   },
   {
    "duration": 2991,
    "start_time": "2025-02-15T00:26:21.140Z"
   },
   {
    "duration": 11,
    "start_time": "2025-02-15T00:26:33.323Z"
   },
   {
    "duration": 2989,
    "start_time": "2025-02-15T00:27:00.009Z"
   },
   {
    "duration": 9,
    "start_time": "2025-02-15T00:27:09.162Z"
   },
   {
    "duration": 3,
    "start_time": "2025-02-15T00:30:57.395Z"
   },
   {
    "duration": 315,
    "start_time": "2025-02-15T00:30:59.404Z"
   },
   {
    "duration": 16,
    "start_time": "2025-02-15T00:31:28.198Z"
   },
   {
    "duration": 19,
    "start_time": "2025-02-15T00:32:04.424Z"
   },
   {
    "duration": 3,
    "start_time": "2025-02-15T00:32:08.134Z"
   },
   {
    "duration": 20,
    "start_time": "2025-02-15T00:32:08.139Z"
   },
   {
    "duration": 8,
    "start_time": "2025-02-15T00:32:08.161Z"
   },
   {
    "duration": 6,
    "start_time": "2025-02-15T00:32:08.170Z"
   },
   {
    "duration": 2,
    "start_time": "2025-02-15T00:32:08.178Z"
   },
   {
    "duration": 9,
    "start_time": "2025-02-15T00:32:08.182Z"
   },
   {
    "duration": 21,
    "start_time": "2025-02-15T00:32:08.192Z"
   },
   {
    "duration": 11,
    "start_time": "2025-02-15T00:32:08.214Z"
   },
   {
    "duration": 538,
    "start_time": "2025-02-15T00:32:08.226Z"
   },
   {
    "duration": 4,
    "start_time": "2025-02-15T00:32:08.766Z"
   },
   {
    "duration": 39,
    "start_time": "2025-02-15T00:32:08.772Z"
   },
   {
    "duration": 12,
    "start_time": "2025-02-15T00:32:08.813Z"
   },
   {
    "duration": 3,
    "start_time": "2025-02-15T00:32:08.826Z"
   },
   {
    "duration": 3,
    "start_time": "2025-02-15T00:32:08.833Z"
   },
   {
    "duration": 4,
    "start_time": "2025-02-15T00:32:08.837Z"
   },
   {
    "duration": 5,
    "start_time": "2025-02-15T00:32:08.843Z"
   },
   {
    "duration": 2,
    "start_time": "2025-02-15T00:32:08.850Z"
   },
   {
    "duration": 3,
    "start_time": "2025-02-15T00:32:08.854Z"
   },
   {
    "duration": 3,
    "start_time": "2025-02-15T00:32:08.858Z"
   },
   {
    "duration": 3,
    "start_time": "2025-02-15T00:32:08.863Z"
   },
   {
    "duration": 49,
    "start_time": "2025-02-15T00:32:08.868Z"
   },
   {
    "duration": 3,
    "start_time": "2025-02-15T00:32:08.919Z"
   },
   {
    "duration": 3,
    "start_time": "2025-02-15T00:32:08.924Z"
   },
   {
    "duration": 400,
    "start_time": "2025-02-15T00:32:08.929Z"
   },
   {
    "duration": 4,
    "start_time": "2025-02-15T00:32:09.412Z"
   },
   {
    "duration": 3605,
    "start_time": "2025-02-15T00:32:09.417Z"
   },
   {
    "duration": 3,
    "start_time": "2025-02-15T00:32:13.024Z"
   },
   {
    "duration": 8,
    "start_time": "2025-02-15T00:32:13.029Z"
   },
   {
    "duration": 89,
    "start_time": "2025-02-15T00:32:13.039Z"
   },
   {
    "duration": 87,
    "start_time": "2025-02-15T00:32:13.130Z"
   },
   {
    "duration": 3555,
    "start_time": "2025-02-15T00:33:05.462Z"
   },
   {
    "duration": 11,
    "start_time": "2025-02-15T00:33:19.553Z"
   },
   {
    "duration": 33,
    "start_time": "2025-02-15T01:08:45.525Z"
   },
   {
    "duration": 3,
    "start_time": "2025-02-15T01:08:49.470Z"
   },
   {
    "duration": 23,
    "start_time": "2025-02-15T01:08:49.476Z"
   },
   {
    "duration": 10,
    "start_time": "2025-02-15T01:08:49.501Z"
   },
   {
    "duration": 7,
    "start_time": "2025-02-15T01:08:49.513Z"
   },
   {
    "duration": 2,
    "start_time": "2025-02-15T01:08:49.524Z"
   },
   {
    "duration": 11,
    "start_time": "2025-02-15T01:08:49.528Z"
   },
   {
    "duration": 5,
    "start_time": "2025-02-15T01:08:49.541Z"
   },
   {
    "duration": 12,
    "start_time": "2025-02-15T01:08:49.547Z"
   },
   {
    "duration": 621,
    "start_time": "2025-02-15T01:08:49.561Z"
   },
   {
    "duration": 4,
    "start_time": "2025-02-15T01:08:50.185Z"
   },
   {
    "duration": 52,
    "start_time": "2025-02-15T01:08:50.192Z"
   },
   {
    "duration": 17,
    "start_time": "2025-02-15T01:08:50.246Z"
   },
   {
    "duration": 3,
    "start_time": "2025-02-15T01:08:50.265Z"
   },
   {
    "duration": 4,
    "start_time": "2025-02-15T01:08:50.373Z"
   },
   {
    "duration": 5,
    "start_time": "2025-02-15T01:08:50.379Z"
   },
   {
    "duration": 7,
    "start_time": "2025-02-15T01:08:50.386Z"
   },
   {
    "duration": 3,
    "start_time": "2025-02-15T01:08:50.412Z"
   },
   {
    "duration": 3,
    "start_time": "2025-02-15T01:08:50.417Z"
   },
   {
    "duration": 3,
    "start_time": "2025-02-15T01:08:50.422Z"
   },
   {
    "duration": 3,
    "start_time": "2025-02-15T01:08:50.427Z"
   },
   {
    "duration": 11,
    "start_time": "2025-02-15T01:08:50.432Z"
   },
   {
    "duration": 67,
    "start_time": "2025-02-15T01:08:50.445Z"
   },
   {
    "duration": 3,
    "start_time": "2025-02-15T01:08:50.514Z"
   },
   {
    "duration": 603,
    "start_time": "2025-02-15T01:08:50.519Z"
   },
   {
    "duration": 3,
    "start_time": "2025-02-15T01:08:51.124Z"
   },
   {
    "duration": 5779,
    "start_time": "2025-02-15T01:08:51.129Z"
   },
   {
    "duration": 4,
    "start_time": "2025-02-15T01:08:56.911Z"
   },
   {
    "duration": 11,
    "start_time": "2025-02-15T01:08:56.917Z"
   },
   {
    "duration": 104,
    "start_time": "2025-02-15T01:08:56.930Z"
   },
   {
    "duration": 91,
    "start_time": "2025-02-15T01:08:57.035Z"
   }
  ],
  "kernelspec": {
   "display_name": "Proyecto_final_tripleten",
   "language": "python",
   "name": "python3"
  },
  "language_info": {
   "codemirror_mode": {
    "name": "ipython",
    "version": 3
   },
   "file_extension": ".py",
   "mimetype": "text/x-python",
   "name": "python",
   "nbconvert_exporter": "python",
   "pygments_lexer": "ipython3",
   "version": "3.13.2"
  },
  "toc": {
   "base_numbering": 1,
   "nav_menu": {},
   "number_sections": true,
   "sideBar": true,
   "skip_h1_title": true,
   "title_cell": "Table of Contents",
   "title_sidebar": "Contents",
   "toc_cell": false,
   "toc_position": {
    "height": "calc(100% - 180px)",
    "left": "10px",
    "top": "150px",
    "width": "165px"
   },
   "toc_section_display": true,
   "toc_window_display": true
  }
 },
 "nbformat": 4,
 "nbformat_minor": 2
}
